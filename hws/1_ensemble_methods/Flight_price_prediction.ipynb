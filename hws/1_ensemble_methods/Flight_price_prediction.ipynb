{
 "cells": [
  {
   "cell_type": "markdown",
   "id": "CDTRVUzbNLyt",
   "metadata": {
    "id": "CDTRVUzbNLyt"
   },
   "source": [
    "<img src='https://cdn.worldofbuzz.com/wp-content/uploads/2018/02/new-hijab-regulations-in-aceh-causes-airasia-to-schedule-only-male-flight-attendants-world-of-buzz-4.png?strip=all&lossy=1&quality=92&ssl=1'>"
   ]
  },
  {
   "cell_type": "markdown",
   "id": "275f22d3",
   "metadata": {
    "id": "275f22d3"
   },
   "source": [
    "<h2><b>FLIGHT PRICE PREDICTION</b></h2>\n",
    "\n",
    "The objective of the study is to analyse the flight booking dataset obtained from “Ease My Trip” website and to conduct various statistical hypothesis tests in order to get meaningful information from it. The 'Linear Regression' statistical algorithm would be used to train the dataset and predict a continuous target variable. 'Easemytrip' is an internet platform for booking flight tickets, and hence a platform that potential passengers use to buy tickets. A thorough study of the data will aid in the discovery of valuable insights that will be of enormous value to passengers.\n",
    "\n",
    "Performed by <b>Danila Pechenev, 21.Б15-мм group</b>"
   ]
  },
  {
   "cell_type": "markdown",
   "id": "2e2bb861",
   "metadata": {
    "id": "2e2bb861"
   },
   "source": [
    "## Step 1 | Environment setup"
   ]
  },
  {
   "cell_type": "markdown",
   "id": "e4fd167b",
   "metadata": {
    "id": "e4fd167b"
   },
   "source": [
    "### ✈️ Step 1.1 | Import libraries"
   ]
  },
  {
   "cell_type": "code",
   "execution_count": 1,
   "id": "b6e56675-f792-414a-ad31-a017eaa04cb2",
   "metadata": {},
   "outputs": [],
   "source": [
    "# !pip install matplotlib\n",
    "# !pip install seaborn\n",
    "# !pip install termcolor\n",
    "# !pip install scikit-learn\n",
    "# !pip install optuna-integration\n",
    "# !pip install lightgbm\n",
    "# !pip install catboost\n",
    "# !pip install xgboost"
   ]
  },
  {
   "cell_type": "code",
   "execution_count": 3,
   "id": "16958b26",
   "metadata": {
    "id": "16958b26"
   },
   "outputs": [],
   "source": [
    "import math\n",
    "import pandas as pd\n",
    "import numpy as np\n",
    "import matplotlib.pyplot as plt\n",
    "import seaborn as sns\n",
    "from termcolor import colored\n",
    "import warnings\n",
    "from IPython.display import clear_output\n",
    "\n",
    "from sklearn.linear_model import LinearRegression\n",
    "from sklearn.tree import DecisionTreeRegressor\n",
    "from sklearn.ensemble import BaggingRegressor, \\\n",
    "                             RandomForestRegressor, \\\n",
    "                             AdaBoostRegressor, \\\n",
    "                             GradientBoostingRegressor, \\\n",
    "                             HistGradientBoostingRegressor\n",
    "from sklearn.metrics import mean_absolute_error, r2_score\n",
    "from sklearn.model_selection import StratifiedKFold, \\\n",
    "                                    GridSearchCV, \\\n",
    "                                    cross_val_score, \\\n",
    "                                    train_test_split, \\\n",
    "                                    cross_validate\n",
    "from sklearn.utils import resample\n",
    "\n",
    "import random\n",
    "RANDOM_STATE=42\n",
    "random.seed(RANDOM_STATE)\n",
    "\n",
    "import optuna\n",
    "import time\n",
    "\n",
    "from lightgbm import LGBMRegressor\n",
    "from catboost import CatBoostRegressor\n",
    "from xgboost import XGBRegressor"
   ]
  },
  {
   "cell_type": "markdown",
   "id": "dfe042de",
   "metadata": {
    "id": "dfe042de"
   },
   "source": [
    "### ✈️ Step 1.2 | Configure libraries"
   ]
  },
  {
   "cell_type": "code",
   "execution_count": 4,
   "id": "319dd96f",
   "metadata": {
    "id": "319dd96f"
   },
   "outputs": [],
   "source": [
    "sns.set_style('darkgrid') # Seaborn style\n",
    "pd.set_option('display.max_columns', None) # Setting this option will print all collumns of a dataframe\n",
    "pd.set_option('display.max_colwidth', None) # Setting this option will print all of the data in a feature\n",
    "warnings.filterwarnings('ignore') # Ignore warnings"
   ]
  },
  {
   "cell_type": "markdown",
   "id": "HKKxgpRnD9S2",
   "metadata": {
    "id": "HKKxgpRnD9S2"
   },
   "source": [
    "### ✈️ Step 1.3 | Unzip dataset"
   ]
  },
  {
   "cell_type": "code",
   "execution_count": 5,
   "id": "SxIkLyxSECSN",
   "metadata": {
    "colab": {
     "base_uri": "https://localhost:8080/"
    },
    "id": "SxIkLyxSECSN",
    "outputId": "76d47adf-46ea-473c-ad50-fa1f82360dd4"
   },
   "outputs": [
    {
     "name": "stdout",
     "output_type": "stream",
     "text": [
      "Archive:  dataset.zip\n",
      "  inflating: dataset.csv             \n"
     ]
    }
   ],
   "source": [
    "!unzip dataset.zip"
   ]
  },
  {
   "cell_type": "markdown",
   "id": "5e06fa47",
   "metadata": {
    "id": "5e06fa47"
   },
   "source": [
    "## Step 2 | Data exploration"
   ]
  },
  {
   "cell_type": "markdown",
   "id": "cb9ad1b1",
   "metadata": {
    "id": "cb9ad1b1"
   },
   "source": [
    "### ✈️ Step 2.1 | Import data"
   ]
  },
  {
   "cell_type": "code",
   "execution_count": 6,
   "id": "1279e4f3",
   "metadata": {
    "colab": {
     "base_uri": "https://localhost:8080/",
     "height": 206
    },
    "id": "1279e4f3",
    "outputId": "cec88886-a216-463b-f014-7b36c024a91a"
   },
   "outputs": [
    {
     "data": {
      "text/html": [
       "<div>\n",
       "<style scoped>\n",
       "    .dataframe tbody tr th:only-of-type {\n",
       "        vertical-align: middle;\n",
       "    }\n",
       "\n",
       "    .dataframe tbody tr th {\n",
       "        vertical-align: top;\n",
       "    }\n",
       "\n",
       "    .dataframe thead th {\n",
       "        text-align: right;\n",
       "    }\n",
       "</style>\n",
       "<table border=\"1\" class=\"dataframe\">\n",
       "  <thead>\n",
       "    <tr style=\"text-align: right;\">\n",
       "      <th></th>\n",
       "      <th>Unnamed: 0</th>\n",
       "      <th>airline</th>\n",
       "      <th>flight</th>\n",
       "      <th>source_city</th>\n",
       "      <th>departure_time</th>\n",
       "      <th>stops</th>\n",
       "      <th>arrival_time</th>\n",
       "      <th>destination_city</th>\n",
       "      <th>class</th>\n",
       "      <th>duration</th>\n",
       "      <th>days_left</th>\n",
       "      <th>price</th>\n",
       "    </tr>\n",
       "  </thead>\n",
       "  <tbody>\n",
       "    <tr>\n",
       "      <th>0</th>\n",
       "      <td>0</td>\n",
       "      <td>SpiceJet</td>\n",
       "      <td>SG-8709</td>\n",
       "      <td>Delhi</td>\n",
       "      <td>Evening</td>\n",
       "      <td>zero</td>\n",
       "      <td>Night</td>\n",
       "      <td>Mumbai</td>\n",
       "      <td>Economy</td>\n",
       "      <td>2.17</td>\n",
       "      <td>1</td>\n",
       "      <td>5953</td>\n",
       "    </tr>\n",
       "    <tr>\n",
       "      <th>1</th>\n",
       "      <td>1</td>\n",
       "      <td>SpiceJet</td>\n",
       "      <td>SG-8157</td>\n",
       "      <td>Delhi</td>\n",
       "      <td>Early_Morning</td>\n",
       "      <td>zero</td>\n",
       "      <td>Morning</td>\n",
       "      <td>Mumbai</td>\n",
       "      <td>Economy</td>\n",
       "      <td>2.33</td>\n",
       "      <td>1</td>\n",
       "      <td>5953</td>\n",
       "    </tr>\n",
       "    <tr>\n",
       "      <th>2</th>\n",
       "      <td>2</td>\n",
       "      <td>AirAsia</td>\n",
       "      <td>I5-764</td>\n",
       "      <td>Delhi</td>\n",
       "      <td>Early_Morning</td>\n",
       "      <td>zero</td>\n",
       "      <td>Early_Morning</td>\n",
       "      <td>Mumbai</td>\n",
       "      <td>Economy</td>\n",
       "      <td>2.17</td>\n",
       "      <td>1</td>\n",
       "      <td>5956</td>\n",
       "    </tr>\n",
       "    <tr>\n",
       "      <th>3</th>\n",
       "      <td>3</td>\n",
       "      <td>Vistara</td>\n",
       "      <td>UK-995</td>\n",
       "      <td>Delhi</td>\n",
       "      <td>Morning</td>\n",
       "      <td>zero</td>\n",
       "      <td>Afternoon</td>\n",
       "      <td>Mumbai</td>\n",
       "      <td>Economy</td>\n",
       "      <td>2.25</td>\n",
       "      <td>1</td>\n",
       "      <td>5955</td>\n",
       "    </tr>\n",
       "    <tr>\n",
       "      <th>4</th>\n",
       "      <td>4</td>\n",
       "      <td>Vistara</td>\n",
       "      <td>UK-963</td>\n",
       "      <td>Delhi</td>\n",
       "      <td>Morning</td>\n",
       "      <td>zero</td>\n",
       "      <td>Morning</td>\n",
       "      <td>Mumbai</td>\n",
       "      <td>Economy</td>\n",
       "      <td>2.33</td>\n",
       "      <td>1</td>\n",
       "      <td>5955</td>\n",
       "    </tr>\n",
       "  </tbody>\n",
       "</table>\n",
       "</div>"
      ],
      "text/plain": [
       "   Unnamed: 0   airline   flight source_city departure_time stops  \\\n",
       "0           0  SpiceJet  SG-8709       Delhi        Evening  zero   \n",
       "1           1  SpiceJet  SG-8157       Delhi  Early_Morning  zero   \n",
       "2           2   AirAsia   I5-764       Delhi  Early_Morning  zero   \n",
       "3           3   Vistara   UK-995       Delhi        Morning  zero   \n",
       "4           4   Vistara   UK-963       Delhi        Morning  zero   \n",
       "\n",
       "    arrival_time destination_city    class  duration  days_left  price  \n",
       "0          Night           Mumbai  Economy      2.17          1   5953  \n",
       "1        Morning           Mumbai  Economy      2.33          1   5953  \n",
       "2  Early_Morning           Mumbai  Economy      2.17          1   5956  \n",
       "3      Afternoon           Mumbai  Economy      2.25          1   5955  \n",
       "4        Morning           Mumbai  Economy      2.33          1   5955  "
      ]
     },
     "execution_count": 6,
     "metadata": {},
     "output_type": "execute_result"
    }
   ],
   "source": [
    "data = pd.read_csv('dataset.csv')\n",
    "data.head()"
   ]
  },
  {
   "cell_type": "markdown",
   "id": "wix0Mc7oVl6z",
   "metadata": {
    "id": "wix0Mc7oVl6z"
   },
   "source": [
    "### ✈️ Step 2.2 | Investigate features"
   ]
  },
  {
   "cell_type": "markdown",
   "id": "gINsFMOlSEBt",
   "metadata": {
    "id": "gINsFMOlSEBt"
   },
   "source": [
    "### FEATURES EXPLANATION\n",
    "1. **Airline** - the name of the airline company. [CATEGORICAL]\n",
    "2. **Flight** - the plane's flight code. [CATEGORICAL]\n",
    "3. **Source city** - the city from which the flight takes off. [CATEGORICAL]\n",
    "4. **Departure time** - a derived feature created by grouping time periods into bins. It stores information about the departure time. [CATEGORICAL]\n",
    "5. **Stops** - the number of stops between the source and destination cities. [CATEGORICAL]\n",
    "6. **Arrival time** - a derived feature created by grouping time intervals into bins. It keeps information about the arrival time. [CATEGORICAL]\n",
    "7. **Destination city** - the city where the flight ends. [CATEGORICAL]\n",
    "8. **Class** - seat class (Business or Economy). [CATEGORICAL]\n",
    "9. **Duration** - overall amount of time taken to travel between cities in hours. [CONTINUOUS]\n",
    "10. **Days left** - a derived characteristic that is calculated by subtracting the trip date by the booking date. [CONTINUOUS]\n",
    "11. **Price** - target variable stores information of the ticket price. [CONTINUOUS]\n",
    "\n"
   ]
  },
  {
   "cell_type": "markdown",
   "id": "1b376ee0",
   "metadata": {
    "id": "1b376ee0"
   },
   "source": [
    "### ✈️ Step 2.3 | Get basic information about the data"
   ]
  },
  {
   "cell_type": "code",
   "execution_count": 7,
   "id": "819dd13d",
   "metadata": {
    "colab": {
     "base_uri": "https://localhost:8080/"
    },
    "id": "819dd13d",
    "outputId": "041d4f80-88eb-4850-9d36-3ea03677b61e"
   },
   "outputs": [
    {
     "name": "stdout",
     "output_type": "stream",
     "text": [
      "<class 'pandas.core.frame.DataFrame'>\n",
      "RangeIndex: 300153 entries, 0 to 300152\n",
      "Data columns (total 12 columns):\n",
      " #   Column            Non-Null Count   Dtype  \n",
      "---  ------            --------------   -----  \n",
      " 0   Unnamed: 0        300153 non-null  int64  \n",
      " 1   airline           300153 non-null  object \n",
      " 2   flight            300153 non-null  object \n",
      " 3   source_city       300153 non-null  object \n",
      " 4   departure_time    300153 non-null  object \n",
      " 5   stops             300153 non-null  object \n",
      " 6   arrival_time      300153 non-null  object \n",
      " 7   destination_city  300153 non-null  object \n",
      " 8   class             300153 non-null  object \n",
      " 9   duration          300153 non-null  float64\n",
      " 10  days_left         300153 non-null  int64  \n",
      " 11  price             300153 non-null  int64  \n",
      "dtypes: float64(1), int64(3), object(8)\n",
      "memory usage: 27.5+ MB\n"
     ]
    }
   ],
   "source": [
    "data.info()"
   ]
  },
  {
   "cell_type": "code",
   "execution_count": 8,
   "id": "40605994",
   "metadata": {
    "colab": {
     "base_uri": "https://localhost:8080/"
    },
    "id": "40605994",
    "outputId": "3687e6d8-69cd-42ba-ab09-4d948ff6bdd0"
   },
   "outputs": [
    {
     "data": {
      "text/plain": [
       "Unnamed: 0          0\n",
       "airline             0\n",
       "flight              0\n",
       "source_city         0\n",
       "departure_time      0\n",
       "stops               0\n",
       "arrival_time        0\n",
       "destination_city    0\n",
       "class               0\n",
       "duration            0\n",
       "days_left           0\n",
       "price               0\n",
       "dtype: int64"
      ]
     },
     "execution_count": 8,
     "metadata": {},
     "output_type": "execute_result"
    }
   ],
   "source": [
    "data.isna().sum()"
   ]
  },
  {
   "cell_type": "markdown",
   "id": "5028b272",
   "metadata": {
    "id": "5028b272"
   },
   "source": [
    "✅ There are no null values, no actions required"
   ]
  },
  {
   "cell_type": "markdown",
   "id": "b8500f90",
   "metadata": {
    "id": "b8500f90"
   },
   "source": [
    "➡️ 'Unnamed: 0' column duplicates the indexes, so we can delete it"
   ]
  },
  {
   "cell_type": "code",
   "execution_count": 9,
   "id": "32dfe85b",
   "metadata": {
    "id": "32dfe85b"
   },
   "outputs": [],
   "source": [
    "data.drop(columns='Unnamed: 0', inplace=True)"
   ]
  },
  {
   "cell_type": "markdown",
   "id": "e894e22a",
   "metadata": {
    "id": "e894e22a"
   },
   "source": [
    "➡️ Rename 'class' name to 'seat_class', since *class* is Python reserved name."
   ]
  },
  {
   "cell_type": "code",
   "execution_count": 10,
   "id": "b376e3c5",
   "metadata": {
    "id": "b376e3c5"
   },
   "outputs": [],
   "source": [
    "data.rename(columns={'class': 'seat_class'}, inplace=True)"
   ]
  },
  {
   "cell_type": "code",
   "execution_count": 11,
   "id": "HJ77rjpPYJoE",
   "metadata": {
    "colab": {
     "base_uri": "https://localhost:8080/"
    },
    "id": "HJ77rjpPYJoE",
    "outputId": "1046b2cd-b8c1-4000-874f-03d5cdc8abd8"
   },
   "outputs": [
    {
     "data": {
      "text/plain": [
       "0          Economy\n",
       "1          Economy\n",
       "2          Economy\n",
       "3          Economy\n",
       "4          Economy\n",
       "            ...   \n",
       "300148    Business\n",
       "300149    Business\n",
       "300150    Business\n",
       "300151    Business\n",
       "300152    Business\n",
       "Name: seat_class, Length: 300153, dtype: object"
      ]
     },
     "execution_count": 11,
     "metadata": {},
     "output_type": "execute_result"
    }
   ],
   "source": [
    "# Now we can refer to the column like this\n",
    "data.seat_class"
   ]
  },
  {
   "cell_type": "markdown",
   "id": "f401882d",
   "metadata": {
    "id": "f401882d"
   },
   "source": [
    "## Step 3 | Data visualization"
   ]
  },
  {
   "cell_type": "markdown",
   "id": "d405308b",
   "metadata": {
    "id": "d405308b"
   },
   "source": [
    "### ✈️ Step 3.1 | Build plots"
   ]
  },
  {
   "cell_type": "code",
   "execution_count": 12,
   "id": "6f04fe48",
   "metadata": {
    "colab": {
     "base_uri": "https://localhost:8080/"
    },
    "id": "6f04fe48",
    "outputId": "26b7ddea-66e0-4308-b66f-5c75ab4faf89"
   },
   "outputs": [
    {
     "name": "stdout",
     "output_type": "stream",
     "text": [
      "0 : airline\n",
      "1 : flight\n",
      "2 : source_city\n",
      "3 : departure_time\n",
      "4 : stops\n",
      "5 : arrival_time\n",
      "6 : destination_city\n",
      "7 : seat_class\n",
      "8 : duration\n",
      "9 : days_left\n",
      "10 : price\n"
     ]
    }
   ],
   "source": [
    "# Print all columns and their indexes\n",
    "for index, value in enumerate(data.columns) :\n",
    "    print(index, \":\", value)"
   ]
  },
  {
   "cell_type": "code",
   "execution_count": 13,
   "id": "Pzm0faA9brAt",
   "metadata": {
    "id": "Pzm0faA9brAt"
   },
   "outputs": [],
   "source": [
    "def analyze_cat_column(column_name):\n",
    "    values_count_result = data[column_name].value_counts()\n",
    "    print(f\"Count values of {column_name} column:\")\n",
    "    print(values_count_result)\n",
    "    print(\"--------------------------------------------------\")\n",
    "\n",
    "    print(\"Percentage distribution of values:\")\n",
    "    labels = values_count_result.index\n",
    "    colors = sns.color_palette()\n",
    "    plt.pie(values_count_result, labels = labels, colors = colors, autopct='%.0f%%')\n",
    "    plt.show()"
   ]
  },
  {
   "cell_type": "code",
   "execution_count": 14,
   "id": "rHJ4y3Aj8ilm",
   "metadata": {
    "id": "rHJ4y3Aj8ilm"
   },
   "outputs": [],
   "source": [
    "MAX_X_VALUE = 50\n",
    "def analyze_cont_column(column_name, target_column=\"price\", hue=\"seat_class\"):\n",
    "    fig, ax = plt.subplots(2, 1, figsize=(8, 10))\n",
    "    plt.tight_layout()\n",
    "    sns.lineplot(x=column_name, y=target_column, data=data, ax=ax[0], hue=hue).set_xticks(np.arange(0, MAX_X_VALUE + 1, 5))\n",
    "    sns.boxplot(data=data, x=column_name, ax=ax[1]).set_xticks(np.arange(0, MAX_X_VALUE + 1, 2))\n",
    "    plt.show()"
   ]
  },
  {
   "cell_type": "markdown",
   "id": "5ddab8fb",
   "metadata": {
    "id": "5ddab8fb"
   },
   "source": [
    "#### **airline** column"
   ]
  },
  {
   "cell_type": "code",
   "execution_count": 15,
   "id": "iVObVHE5dHd8",
   "metadata": {
    "colab": {
     "base_uri": "https://localhost:8080/",
     "height": 0
    },
    "id": "iVObVHE5dHd8",
    "outputId": "33e0342c-ad46-41c8-a1d6-8cb13d7c987b"
   },
   "outputs": [
    {
     "name": "stdout",
     "output_type": "stream",
     "text": [
      "Count values of airline column:\n",
      "Vistara      127859\n",
      "Air_India     80892\n",
      "Indigo        43120\n",
      "GO_FIRST      23173\n",
      "AirAsia       16098\n",
      "SpiceJet       9011\n",
      "Name: airline, dtype: int64\n",
      "--------------------------------------------------\n",
      "Percentage distribution of values:\n"
     ]
    },
    {
     "data": {
      "image/png": "[encoded data removed]",
      "text/plain": [
       "<Figure size 640x480 with 1 Axes>"
      ]
     },
     "metadata": {},
     "output_type": "display_data"
    }
   ],
   "source": [
    "analyze_cat_column(\"airline\")"
   ]
  },
  {
   "cell_type": "markdown",
   "id": "ANtysmG7aPcl",
   "metadata": {
    "id": "ANtysmG7aPcl"
   },
   "source": [
    "✅ There are 6 unique values of **airline** column"
   ]
  },
  {
   "cell_type": "markdown",
   "id": "p8eO4MrRfSW1",
   "metadata": {
    "id": "p8eO4MrRfSW1"
   },
   "source": [
    "* Vistara operates slightly less than half of all flights from the dataset\n",
    "* Air India operates slightly more than quarter of all flights from the dataset\n",
    "* Other airlines operate 30% of flights from the dataset"
   ]
  },
  {
   "cell_type": "markdown",
   "id": "79ff863f",
   "metadata": {
    "id": "79ff863f"
   },
   "source": [
    "#### **flight** column"
   ]
  },
  {
   "cell_type": "code",
   "execution_count": 16,
   "id": "9e87baf3",
   "metadata": {
    "colab": {
     "base_uri": "https://localhost:8080/"
    },
    "id": "9e87baf3",
    "outputId": "abedcb54-22e5-441d-efc1-a6dad021d46b"
   },
   "outputs": [
    {
     "data": {
      "text/plain": [
       "1561"
      ]
     },
     "execution_count": 16,
     "metadata": {},
     "output_type": "execute_result"
    }
   ],
   "source": [
    "len(data.flight.value_counts())"
   ]
  },
  {
   "cell_type": "markdown",
   "id": "449c7098",
   "metadata": {
    "id": "449c7098"
   },
   "source": [
    "✅ There are 1561 unique values of **flight** column, so we don't build charts for it"
   ]
  },
  {
   "cell_type": "markdown",
   "id": "ca112712",
   "metadata": {
    "id": "ca112712"
   },
   "source": [
    "➡️ Flight number may be redundant, since the flight number can be determined by knowing the departure and arrival cities, the airline and the flight time. That is why we will drop it"
   ]
  },
  {
   "cell_type": "code",
   "execution_count": 17,
   "id": "3b506894",
   "metadata": {
    "id": "3b506894"
   },
   "outputs": [],
   "source": [
    "data.drop(columns='flight', inplace=True)"
   ]
  },
  {
   "cell_type": "markdown",
   "id": "64607fbe",
   "metadata": {
    "id": "64607fbe"
   },
   "source": [
    "#### **source_city** column"
   ]
  },
  {
   "cell_type": "code",
   "execution_count": 18,
   "id": "a7a81954",
   "metadata": {
    "colab": {
     "base_uri": "https://localhost:8080/",
     "height": 0
    },
    "id": "a7a81954",
    "outputId": "ce0216f5-20ad-4979-e642-4b81612e3c0e"
   },
   "outputs": [
    {
     "name": "stdout",
     "output_type": "stream",
     "text": [
      "Count values of source_city column:\n",
      "Delhi        61343\n",
      "Mumbai       60896\n",
      "Bangalore    52061\n",
      "Kolkata      46347\n",
      "Hyderabad    40806\n",
      "Chennai      38700\n",
      "Name: source_city, dtype: int64\n",
      "--------------------------------------------------\n",
      "Percentage distribution of values:\n"
     ]
    },
    {
     "data": {
      "image/png": "[encoded data removed]",
      "text/plain": [
       "<Figure size 640x480 with 1 Axes>"
      ]
     },
     "metadata": {},
     "output_type": "display_data"
    }
   ],
   "source": [
    "analyze_cat_column(\"source_city\")"
   ]
  },
  {
   "cell_type": "markdown",
   "id": "NX2T1fEvhsa9",
   "metadata": {
    "id": "NX2T1fEvhsa9"
   },
   "source": [
    "✅ There are 6 unique values of **source_city** column"
   ]
  },
  {
   "cell_type": "markdown",
   "id": "c234c2de",
   "metadata": {
    "id": "c234c2de"
   },
   "source": [
    "*   The number of flights from all source cities is roughly similar"
   ]
  },
  {
   "cell_type": "markdown",
   "id": "46e29005",
   "metadata": {
    "id": "46e29005"
   },
   "source": [
    "#### **departure_time** column"
   ]
  },
  {
   "cell_type": "code",
   "execution_count": 19,
   "id": "e29568d1",
   "metadata": {
    "colab": {
     "base_uri": "https://localhost:8080/",
     "height": 0
    },
    "id": "e29568d1",
    "outputId": "741f03e8-5e75-4b30-bc82-295fc8a8410d"
   },
   "outputs": [
    {
     "name": "stdout",
     "output_type": "stream",
     "text": [
      "Count values of departure_time column:\n",
      "Morning          71146\n",
      "Early_Morning    66790\n",
      "Evening          65102\n",
      "Night            48015\n",
      "Afternoon        47794\n",
      "Late_Night        1306\n",
      "Name: departure_time, dtype: int64\n",
      "--------------------------------------------------\n",
      "Percentage distribution of values:\n"
     ]
    },
    {
     "data": {
      "image/png": "[encoded data removed]",
      "text/plain": [
       "<Figure size 640x480 with 1 Axes>"
      ]
     },
     "metadata": {},
     "output_type": "display_data"
    }
   ],
   "source": [
    "analyze_cat_column(\"departure_time\")"
   ]
  },
  {
   "cell_type": "markdown",
   "id": "7eip7q0Ii1uX",
   "metadata": {
    "id": "7eip7q0Ii1uX"
   },
   "source": [
    "✅ There are 6 unique values of **departure_time** column"
   ]
  },
  {
   "cell_type": "markdown",
   "id": "b94ba4f9",
   "metadata": {
    "id": "b94ba4f9"
   },
   "source": [
    "* Aside from **Late_Night**, the frequency of the remaining categories is approximately equal\n",
    "* Very few flights are operated late at night"
   ]
  },
  {
   "cell_type": "markdown",
   "id": "77c9cad8",
   "metadata": {
    "id": "77c9cad8"
   },
   "source": [
    "#### **stops** column"
   ]
  },
  {
   "cell_type": "code",
   "execution_count": 20,
   "id": "6928675c",
   "metadata": {
    "colab": {
     "base_uri": "https://localhost:8080/",
     "height": 0
    },
    "id": "6928675c",
    "outputId": "275a4ccd-4837-4339-c640-23341ef18a9f"
   },
   "outputs": [
    {
     "name": "stdout",
     "output_type": "stream",
     "text": [
      "Count values of stops column:\n",
      "one            250863\n",
      "zero            36004\n",
      "two_or_more     13286\n",
      "Name: stops, dtype: int64\n",
      "--------------------------------------------------\n",
      "Percentage distribution of values:\n"
     ]
    },
    {
     "data": {
      "image/png": "[encoded data removed]",
      "text/plain": [
       "<Figure size 640x480 with 1 Axes>"
      ]
     },
     "metadata": {},
     "output_type": "display_data"
    }
   ],
   "source": [
    "analyze_cat_column(\"stops\")"
   ]
  },
  {
   "cell_type": "markdown",
   "id": "xVRSRDwB3InD",
   "metadata": {
    "id": "xVRSRDwB3InD"
   },
   "source": [
    "✅ There are 3 unique values of **stops** column"
   ]
  },
  {
   "cell_type": "markdown",
   "id": "88477d8c",
   "metadata": {
    "id": "88477d8c"
   },
   "source": [
    " - Most flights have 1 stop"
   ]
  },
  {
   "cell_type": "markdown",
   "id": "b75c524b",
   "metadata": {
    "id": "b75c524b"
   },
   "source": [
    "#### **arrival_time** column"
   ]
  },
  {
   "cell_type": "code",
   "execution_count": 21,
   "id": "9c991d71",
   "metadata": {
    "colab": {
     "base_uri": "https://localhost:8080/",
     "height": 0
    },
    "id": "9c991d71",
    "outputId": "d765b58b-33d7-46fd-c270-6cff74d224e9"
   },
   "outputs": [
    {
     "name": "stdout",
     "output_type": "stream",
     "text": [
      "Count values of arrival_time column:\n",
      "Night            91538\n",
      "Evening          78323\n",
      "Morning          62735\n",
      "Afternoon        38139\n",
      "Early_Morning    15417\n",
      "Late_Night       14001\n",
      "Name: arrival_time, dtype: int64\n",
      "--------------------------------------------------\n",
      "Percentage distribution of values:\n"
     ]
    },
    {
     "data": {
      "image/png": "[encoded data removed]",
      "text/plain": [
       "<Figure size 640x480 with 1 Axes>"
      ]
     },
     "metadata": {},
     "output_type": "display_data"
    }
   ],
   "source": [
    "analyze_cat_column(\"arrival_time\")"
   ]
  },
  {
   "cell_type": "markdown",
   "id": "HSqVKPuf3ekD",
   "metadata": {
    "id": "HSqVKPuf3ekD"
   },
   "source": [
    "✅ There are 6 unique values of **arrival_time** column. Values are the same as in **departure_time** column"
   ]
  },
  {
   "cell_type": "markdown",
   "id": "a8af2dec",
   "metadata": {
    "id": "a8af2dec"
   },
   "source": [
    "#### **destination_city** column"
   ]
  },
  {
   "cell_type": "code",
   "execution_count": 22,
   "id": "dd30abde",
   "metadata": {
    "colab": {
     "base_uri": "https://localhost:8080/",
     "height": 0
    },
    "id": "dd30abde",
    "outputId": "aa400097-e914-4c9f-d8c2-8a9492c77962"
   },
   "outputs": [
    {
     "name": "stdout",
     "output_type": "stream",
     "text": [
      "Count values of destination_city column:\n",
      "Mumbai       59097\n",
      "Delhi        57360\n",
      "Bangalore    51068\n",
      "Kolkata      49534\n",
      "Hyderabad    42726\n",
      "Chennai      40368\n",
      "Name: destination_city, dtype: int64\n",
      "--------------------------------------------------\n",
      "Percentage distribution of values:\n"
     ]
    },
    {
     "data": {
      "image/png": "[encoded data removed]",
      "text/plain": [
       "<Figure size 640x480 with 1 Axes>"
      ]
     },
     "metadata": {},
     "output_type": "display_data"
    }
   ],
   "source": [
    "analyze_cat_column(\"destination_city\")"
   ]
  },
  {
   "cell_type": "markdown",
   "id": "BsePyQCV37bb",
   "metadata": {
    "id": "BsePyQCV37bb"
   },
   "source": [
    "✅ There are 6 unique values of **destination_city** column. Values are the same as in **source_city** column"
   ]
  },
  {
   "cell_type": "markdown",
   "id": "f827ff86",
   "metadata": {
    "id": "f827ff86"
   },
   "source": [
    "#### **seat_class** column"
   ]
  },
  {
   "cell_type": "code",
   "execution_count": 23,
   "id": "8154b4d7",
   "metadata": {
    "colab": {
     "base_uri": "https://localhost:8080/",
     "height": 0
    },
    "id": "8154b4d7",
    "outputId": "bbdd47d2-b50c-4786-fe91-eb2a8d068a41"
   },
   "outputs": [
    {
     "name": "stdout",
     "output_type": "stream",
     "text": [
      "Count values of seat_class column:\n",
      "Economy     206666\n",
      "Business     93487\n",
      "Name: seat_class, dtype: int64\n",
      "--------------------------------------------------\n",
      "Percentage distribution of values:\n"
     ]
    },
    {
     "data": {
      "image/png": "[encoded data removed]",
      "text/plain": [
       "<Figure size 640x480 with 1 Axes>"
      ]
     },
     "metadata": {},
     "output_type": "display_data"
    }
   ],
   "source": [
    "analyze_cat_column(\"seat_class\")"
   ]
  },
  {
   "cell_type": "markdown",
   "id": "85caf500",
   "metadata": {
    "id": "85caf500"
   },
   "source": [
    "✅ There are 2 unique values of **seat_class** column"
   ]
  },
  {
   "cell_type": "markdown",
   "id": "guxmv6JZ4RXM",
   "metadata": {
    "id": "guxmv6JZ4RXM"
   },
   "source": [
    "* Obviously, business class tickets are more expensive"
   ]
  },
  {
   "cell_type": "markdown",
   "id": "27336950",
   "metadata": {
    "id": "27336950"
   },
   "source": [
    "#### **duration** column"
   ]
  },
  {
   "cell_type": "code",
   "execution_count": 24,
   "id": "508c766d",
   "metadata": {
    "colab": {
     "base_uri": "https://localhost:8080/",
     "height": 0
    },
    "id": "508c766d",
    "outputId": "5d169012-46bd-43bd-a0d1-a4170e676fdc"
   },
   "outputs": [
    {
     "data": {
      "image/png": "[encoded data removed]",
      "text/plain": [
       "<Figure size 800x1000 with 2 Axes>"
      ]
     },
     "metadata": {},
     "output_type": "display_data"
    }
   ],
   "source": [
    "analyze_cont_column(\"duration\")"
   ]
  },
  {
   "cell_type": "markdown",
   "id": "dc43747a",
   "metadata": {
    "id": "dc43747a"
   },
   "source": [
    "Business class:\n",
    "* from 1 to 5 hours, the price increases sharply\n",
    "* for durations more than 5 hours, the price ranges from ~45000 to ~60000\n",
    "\n",
    "Economy class:\n",
    "* the price increases smoothly throughout almost the entire chart"
   ]
  },
  {
   "cell_type": "markdown",
   "id": "e24cebbf",
   "metadata": {
    "id": "e24cebbf"
   },
   "source": [
    "#### **days_left** column"
   ]
  },
  {
   "cell_type": "code",
   "execution_count": 25,
   "id": "qAOMd4vE-487",
   "metadata": {
    "colab": {
     "base_uri": "https://localhost:8080/",
     "height": 0
    },
    "id": "qAOMd4vE-487",
    "outputId": "0f6dca56-a636-40f9-a377-1545c4b0ef05"
   },
   "outputs": [
    {
     "data": {
      "image/png": "[encoded data removed]",
      "text/plain": [
       "<Figure size 800x1000 with 2 Axes>"
      ]
     },
     "metadata": {},
     "output_type": "display_data"
    }
   ],
   "source": [
    "analyze_cont_column(\"days_left\", hue=None)"
   ]
  },
  {
   "cell_type": "markdown",
   "id": "923266f0",
   "metadata": {
    "id": "923266f0"
   },
   "source": [
    "* In general, the earlier you book tickets, the less you will pay"
   ]
  },
  {
   "cell_type": "markdown",
   "id": "3fd6f597",
   "metadata": {
    "id": "3fd6f597"
   },
   "source": [
    "#### **price** column (target)"
   ]
  },
  {
   "cell_type": "code",
   "execution_count": 26,
   "id": "25493f10",
   "metadata": {
    "colab": {
     "base_uri": "https://localhost:8080/",
     "height": 0
    },
    "id": "25493f10",
    "outputId": "b164ca77-6c6a-400a-a5e1-a20762125f21"
   },
   "outputs": [
    {
     "data": {
      "image/png": "[encoded data removed]",
      "text/plain": [
       "<Figure size 1500x300 with 1 Axes>"
      ]
     },
     "metadata": {},
     "output_type": "display_data"
    }
   ],
   "source": [
    "plt.figure(figsize=(15, 3))\n",
    "sns.boxplot(data=data, x='price')\n",
    "plt.show()"
   ]
  },
  {
   "cell_type": "markdown",
   "id": "25cdeb97",
   "metadata": {
    "id": "25cdeb97"
   },
   "source": [
    "## Step 4 | Data preprocessing"
   ]
  },
  {
   "cell_type": "markdown",
   "id": "6c9cb5a1",
   "metadata": {
    "id": "6c9cb5a1"
   },
   "source": [
    "### ✈️ Step 4.1 | Replace categorical values by numbers"
   ]
  },
  {
   "cell_type": "code",
   "execution_count": 27,
   "id": "OeKg2WclAHpL",
   "metadata": {
    "id": "OeKg2WclAHpL"
   },
   "outputs": [],
   "source": [
    "airline_rule = {\n",
    "    'Vistara'   : 0,\n",
    "    'Air_India' : 1,\n",
    "    'Indigo'    : 2,\n",
    "    'GO_FIRST'  : 3,\n",
    "    'AirAsia'   : 4,\n",
    "    'SpiceJet'  : 5\n",
    "}\n",
    "\n",
    "data.airline = data.airline.replace(airline_rule)"
   ]
  },
  {
   "cell_type": "code",
   "execution_count": 28,
   "id": "DIt_DljMAdV0",
   "metadata": {
    "id": "DIt_DljMAdV0"
   },
   "outputs": [],
   "source": [
    "city_rule = {\n",
    "    'Delhi'     : 0,\n",
    "    'Mumbai'    : 1,\n",
    "    'Bangalore' : 2,\n",
    "    'Kolkata'   : 3,\n",
    "    'Hyderabad' : 4,\n",
    "    'Chennai'   : 5\n",
    "}\n",
    "\n",
    "data.source_city = data.source_city.replace(city_rule)\n",
    "data.destination_city = data.destination_city.replace(city_rule)"
   ]
  },
  {
   "cell_type": "code",
   "execution_count": 29,
   "id": "nXz1fLa4BBY-",
   "metadata": {
    "id": "nXz1fLa4BBY-"
   },
   "outputs": [],
   "source": [
    "time_rule = {\n",
    "    'Morning'       : 0,\n",
    "    'Early_Morning' : 1,\n",
    "    'Evening'       : 2,\n",
    "    'Night'         : 3,\n",
    "    'Afternoon'     : 4,\n",
    "    'Late_Night'    : 5\n",
    "}\n",
    "\n",
    "data.departure_time = data.departure_time.replace(time_rule)\n",
    "data.arrival_time = data.arrival_time.replace(time_rule)"
   ]
  },
  {
   "cell_type": "code",
   "execution_count": 30,
   "id": "lZu_hGj0BW6C",
   "metadata": {
    "id": "lZu_hGj0BW6C"
   },
   "outputs": [],
   "source": [
    "stops_rule = {\n",
    "    'one'         : 0,\n",
    "    'zero'        : 1,\n",
    "    'two_or_more' : 2\n",
    "}\n",
    "\n",
    "data.stops = data.stops.replace(stops_rule)"
   ]
  },
  {
   "cell_type": "code",
   "execution_count": 31,
   "id": "vd5xu4pIBeaE",
   "metadata": {
    "id": "vd5xu4pIBeaE"
   },
   "outputs": [],
   "source": [
    "seat_class_rule = {\n",
    "    'Economy'  : 0,\n",
    "    'Business' : 1\n",
    "}\n",
    "\n",
    "data.seat_class = data.seat_class.replace(seat_class_rule)"
   ]
  },
  {
   "cell_type": "code",
   "execution_count": 32,
   "id": "4E3Ck3sdDZfK",
   "metadata": {
    "colab": {
     "base_uri": "https://localhost:8080/",
     "height": 320
    },
    "id": "4E3Ck3sdDZfK",
    "outputId": "d36dbea9-c391-429a-a0e6-5191b3d4ef79"
   },
   "outputs": [
    {
     "data": {
      "text/html": [
       "<div>\n",
       "<style scoped>\n",
       "    .dataframe tbody tr th:only-of-type {\n",
       "        vertical-align: middle;\n",
       "    }\n",
       "\n",
       "    .dataframe tbody tr th {\n",
       "        vertical-align: top;\n",
       "    }\n",
       "\n",
       "    .dataframe thead th {\n",
       "        text-align: right;\n",
       "    }\n",
       "</style>\n",
       "<table border=\"1\" class=\"dataframe\">\n",
       "  <thead>\n",
       "    <tr style=\"text-align: right;\">\n",
       "      <th></th>\n",
       "      <th>airline</th>\n",
       "      <th>source_city</th>\n",
       "      <th>departure_time</th>\n",
       "      <th>stops</th>\n",
       "      <th>arrival_time</th>\n",
       "      <th>destination_city</th>\n",
       "      <th>seat_class</th>\n",
       "      <th>duration</th>\n",
       "      <th>days_left</th>\n",
       "      <th>price</th>\n",
       "    </tr>\n",
       "  </thead>\n",
       "  <tbody>\n",
       "    <tr>\n",
       "      <th>count</th>\n",
       "      <td>300153.000000</td>\n",
       "      <td>300153.000000</td>\n",
       "      <td>300153.000000</td>\n",
       "      <td>300153.000000</td>\n",
       "      <td>300153.000000</td>\n",
       "      <td>300153.000000</td>\n",
       "      <td>300153.000000</td>\n",
       "      <td>300153.000000</td>\n",
       "      <td>300153.000000</td>\n",
       "      <td>300153.000000</td>\n",
       "    </tr>\n",
       "    <tr>\n",
       "      <th>mean</th>\n",
       "      <td>1.153072</td>\n",
       "      <td>2.201487</td>\n",
       "      <td>1.794901</td>\n",
       "      <td>0.208480</td>\n",
       "      <td>2.229656</td>\n",
       "      <td>2.274104</td>\n",
       "      <td>0.311464</td>\n",
       "      <td>12.221021</td>\n",
       "      <td>26.004751</td>\n",
       "      <td>20889.660523</td>\n",
       "    </tr>\n",
       "    <tr>\n",
       "      <th>std</th>\n",
       "      <td>1.348357</td>\n",
       "      <td>1.684757</td>\n",
       "      <td>1.401659</td>\n",
       "      <td>0.503533</td>\n",
       "      <td>1.437956</td>\n",
       "      <td>1.682563</td>\n",
       "      <td>0.463093</td>\n",
       "      <td>7.191997</td>\n",
       "      <td>13.561004</td>\n",
       "      <td>22697.767366</td>\n",
       "    </tr>\n",
       "    <tr>\n",
       "      <th>min</th>\n",
       "      <td>0.000000</td>\n",
       "      <td>0.000000</td>\n",
       "      <td>0.000000</td>\n",
       "      <td>0.000000</td>\n",
       "      <td>0.000000</td>\n",
       "      <td>0.000000</td>\n",
       "      <td>0.000000</td>\n",
       "      <td>0.830000</td>\n",
       "      <td>1.000000</td>\n",
       "      <td>1105.000000</td>\n",
       "    </tr>\n",
       "    <tr>\n",
       "      <th>25%</th>\n",
       "      <td>0.000000</td>\n",
       "      <td>1.000000</td>\n",
       "      <td>1.000000</td>\n",
       "      <td>0.000000</td>\n",
       "      <td>1.000000</td>\n",
       "      <td>1.000000</td>\n",
       "      <td>0.000000</td>\n",
       "      <td>6.830000</td>\n",
       "      <td>15.000000</td>\n",
       "      <td>4783.000000</td>\n",
       "    </tr>\n",
       "    <tr>\n",
       "      <th>50%</th>\n",
       "      <td>1.000000</td>\n",
       "      <td>2.000000</td>\n",
       "      <td>2.000000</td>\n",
       "      <td>0.000000</td>\n",
       "      <td>2.000000</td>\n",
       "      <td>2.000000</td>\n",
       "      <td>0.000000</td>\n",
       "      <td>11.250000</td>\n",
       "      <td>26.000000</td>\n",
       "      <td>7425.000000</td>\n",
       "    </tr>\n",
       "    <tr>\n",
       "      <th>75%</th>\n",
       "      <td>2.000000</td>\n",
       "      <td>4.000000</td>\n",
       "      <td>3.000000</td>\n",
       "      <td>0.000000</td>\n",
       "      <td>3.000000</td>\n",
       "      <td>4.000000</td>\n",
       "      <td>1.000000</td>\n",
       "      <td>16.170000</td>\n",
       "      <td>38.000000</td>\n",
       "      <td>42521.000000</td>\n",
       "    </tr>\n",
       "    <tr>\n",
       "      <th>max</th>\n",
       "      <td>5.000000</td>\n",
       "      <td>5.000000</td>\n",
       "      <td>5.000000</td>\n",
       "      <td>2.000000</td>\n",
       "      <td>5.000000</td>\n",
       "      <td>5.000000</td>\n",
       "      <td>1.000000</td>\n",
       "      <td>49.830000</td>\n",
       "      <td>49.000000</td>\n",
       "      <td>123071.000000</td>\n",
       "    </tr>\n",
       "  </tbody>\n",
       "</table>\n",
       "</div>"
      ],
      "text/plain": [
       "             airline    source_city  departure_time          stops  \\\n",
       "count  300153.000000  300153.000000   300153.000000  300153.000000   \n",
       "mean        1.153072       2.201487        1.794901       0.208480   \n",
       "std         1.348357       1.684757        1.401659       0.503533   \n",
       "min         0.000000       0.000000        0.000000       0.000000   \n",
       "25%         0.000000       1.000000        1.000000       0.000000   \n",
       "50%         1.000000       2.000000        2.000000       0.000000   \n",
       "75%         2.000000       4.000000        3.000000       0.000000   \n",
       "max         5.000000       5.000000        5.000000       2.000000   \n",
       "\n",
       "        arrival_time  destination_city     seat_class       duration  \\\n",
       "count  300153.000000     300153.000000  300153.000000  300153.000000   \n",
       "mean        2.229656          2.274104       0.311464      12.221021   \n",
       "std         1.437956          1.682563       0.463093       7.191997   \n",
       "min         0.000000          0.000000       0.000000       0.830000   \n",
       "25%         1.000000          1.000000       0.000000       6.830000   \n",
       "50%         2.000000          2.000000       0.000000      11.250000   \n",
       "75%         3.000000          4.000000       1.000000      16.170000   \n",
       "max         5.000000          5.000000       1.000000      49.830000   \n",
       "\n",
       "           days_left          price  \n",
       "count  300153.000000  300153.000000  \n",
       "mean       26.004751   20889.660523  \n",
       "std        13.561004   22697.767366  \n",
       "min         1.000000    1105.000000  \n",
       "25%        15.000000    4783.000000  \n",
       "50%        26.000000    7425.000000  \n",
       "75%        38.000000   42521.000000  \n",
       "max        49.000000  123071.000000  "
      ]
     },
     "execution_count": 32,
     "metadata": {},
     "output_type": "execute_result"
    }
   ],
   "source": [
    "data.describe()"
   ]
  },
  {
   "cell_type": "markdown",
   "id": "96d57ae9",
   "metadata": {
    "id": "96d57ae9"
   },
   "source": [
    "### ✈️ Step 4.2 | Build correlation matrix"
   ]
  },
  {
   "cell_type": "code",
   "execution_count": 33,
   "id": "864a18e9",
   "metadata": {
    "colab": {
     "base_uri": "https://localhost:8080/",
     "height": 541
    },
    "id": "864a18e9",
    "outputId": "93fbb56b-f00f-4d37-a670-1f02ed7a03b3"
   },
   "outputs": [
    {
     "data": {
      "image/png": "[encoded data removed]",
      "text/plain": [
       "<Figure size 1000x500 with 2 Axes>"
      ]
     },
     "metadata": {},
     "output_type": "display_data"
    }
   ],
   "source": [
    "corr = data.corr()\n",
    "plt.figure(figsize=(10, 5))\n",
    "sns.heatmap(corr, annot=True, fmt='.2f', linewidths=0.5, linecolor='white', mask=np.triu(corr), cmap='Blues')\n",
    "plt.show()"
   ]
  },
  {
   "cell_type": "markdown",
   "id": "9c46b844",
   "metadata": {
    "id": "9c46b844"
   },
   "source": [
    "✅ It is obvious that **seat_class** is the most relevant feature to **price**. Correlation matrix reflects that"
   ]
  },
  {
   "cell_type": "markdown",
   "id": "fd9f9d22",
   "metadata": {
    "id": "fd9f9d22"
   },
   "source": [
    "### ✈️ Step 4.3 | Separate X and y"
   ]
  },
  {
   "cell_type": "code",
   "execution_count": 34,
   "id": "ff3d7914",
   "metadata": {
    "id": "ff3d7914"
   },
   "outputs": [],
   "source": [
    "X = data.drop(columns='price')\n",
    "y = data.price"
   ]
  },
  {
   "cell_type": "markdown",
   "id": "3TEnMWORUdTz",
   "metadata": {
    "id": "3TEnMWORUdTz"
   },
   "source": [
    "✅ Since we will train models based on trees, there is no need for normalization"
   ]
  },
  {
   "cell_type": "markdown",
   "id": "8EHSNK9oNwZY",
   "metadata": {
    "id": "8EHSNK9oNwZY"
   },
   "source": [
    "## Step 5 | Implementation of custom ensemble models"
   ]
  },
  {
   "cell_type": "code",
   "execution_count": 35,
   "id": "2JRu3A22WxzQ",
   "metadata": {
    "id": "2JRu3A22WxzQ"
   },
   "outputs": [],
   "source": [
    "class MyModel:\n",
    "    def get_params(self, deep=False):\n",
    "        return self._params\n",
    "\n",
    "    def set_params(self, **params):\n",
    "        for key, value in params.items():\n",
    "            self._params[key] = value\n",
    "        return self"
   ]
  },
  {
   "cell_type": "markdown",
   "id": "nm51dZPHOs7g",
   "metadata": {
    "id": "nm51dZPHOs7g"
   },
   "source": [
    "### ✈️ Step 5.1 | Random Forest"
   ]
  },
  {
   "cell_type": "code",
   "execution_count": 36,
   "id": "kd7utxyWVQg7",
   "metadata": {
    "id": "kd7utxyWVQg7"
   },
   "outputs": [],
   "source": [
    "class MyRandomForestRegressor(MyModel):\n",
    "    def __init__(self,\n",
    "            n_estimators=100,\n",
    "            max_depth=None,\n",
    "            max_features=1.0,\n",
    "            max_samples=1.0,\n",
    "            random_state=None\n",
    "        ):\n",
    "        self._params = {\n",
    "            \"n_estimators\": n_estimators,\n",
    "            \"max_depth\"   : max_depth,\n",
    "            \"max_features\": max_features,\n",
    "            \"random_state\": random_state,\n",
    "            \"max_samples\" : max_samples\n",
    "        }\n",
    "\n",
    "    def fit(self, X, y):\n",
    "        self._trees = []\n",
    "        self._features = []\n",
    "        columns = list(X.columns)\n",
    "        bootstrap_samples = round(self._params[\"max_samples\"] * X.shape[0])\n",
    "        max_features = round(self._params[\"max_features\"] * len(columns))\n",
    "        for i in range(self._params[\"n_estimators\"]):\n",
    "            X_i, y_i = resample(X, y, n_samples=bootstrap_samples, random_state=self._params[\"random_state\"])\n",
    "            features = random.sample(columns, max_features)\n",
    "            self._features.append(features)\n",
    "            X_i = X_i[features]\n",
    "\n",
    "            tree = DecisionTreeRegressor(\n",
    "                max_depth=self._params[\"max_depth\"],\n",
    "                random_state=self._params[\"random_state\"]\n",
    "            )\n",
    "\n",
    "            tree.fit(X_i, y_i)\n",
    "            self._trees.append(tree)\n",
    "\n",
    "    def predict(self, X):\n",
    "        sum = np.zeros(X.shape[0])\n",
    "        for i in range(self._params[\"n_estimators\"]):\n",
    "            tree = self._trees[i]\n",
    "            features = self._features[i]\n",
    "            sum += tree.predict(X[features])\n",
    "        return sum / self._params[\"n_estimators\"]"
   ]
  },
  {
   "cell_type": "markdown",
   "id": "cImjiuZKk79K",
   "metadata": {
    "id": "cImjiuZKk79K"
   },
   "source": [
    "### ✈️ Step 5.2 | AdaBoost"
   ]
  },
  {
   "cell_type": "code",
   "execution_count": 37,
   "id": "NQxsTeq6lBwS",
   "metadata": {
    "id": "NQxsTeq6lBwS"
   },
   "outputs": [],
   "source": [
    "class MyAdaBoost(MyModel):\n",
    "    def __init__(self,\n",
    "            n_estimators=100,\n",
    "            max_depth=3,\n",
    "            random_state=None,\n",
    "        ):\n",
    "        self._params = {\n",
    "            \"n_estimators\": n_estimators,\n",
    "            \"max_depth\"   : max_depth,\n",
    "            \"random_state\": random_state\n",
    "        }\n",
    "\n",
    "    def fit(self, X, y):\n",
    "        self._trees = []\n",
    "        self._alphas = []\n",
    "        samples_number = X.shape[0]\n",
    "        weights = np.full(samples_number, 1 / samples_number)\n",
    "        for i in range(self._params[\"n_estimators\"]):\n",
    "            X_i, y_i = resample(X, y, n_samples=samples_number, random_state=self._params[\"random_state\"])\n",
    "\n",
    "            tree = DecisionTreeRegressor(\n",
    "                max_depth=self._params[\"max_depth\"],\n",
    "                random_state=self._params[\"random_state\"]\n",
    "            )\n",
    "            tree.fit(X_i, y_i, weights)\n",
    "            self._trees.append(tree)\n",
    "\n",
    "            error = 1 - tree.score(X, y, weights)\n",
    "            alpha = np.log((1 - error) / error) / 2\n",
    "            self._alphas.append(alpha)\n",
    "            y_pred = tree.predict(X)\n",
    "            weights = weights * np.exp(-alpha * (abs((y - y_pred) / y) < (1 / (i + 1))))\n",
    "            weights_sum = sum(weights)\n",
    "            weights = weights / weights_sum\n",
    "        self._alphas /= sum(self._alphas)\n",
    "\n",
    "    def predict(self, X):\n",
    "        result = np.zeros(X.shape[0])\n",
    "        for i in range(self._params[\"n_estimators\"]):\n",
    "            tree = self._trees[i]\n",
    "            alpha = self._alphas[i]\n",
    "            result += alpha * tree.predict(X)\n",
    "        return result"
   ]
  },
  {
   "cell_type": "markdown",
   "id": "8_y46Kk-OSXe",
   "metadata": {
    "id": "8_y46Kk-OSXe"
   },
   "source": [
    "## Step 6 | Model training & evaluation"
   ]
  },
  {
   "cell_type": "code",
   "execution_count": 38,
   "id": "FX_aqiX8TSvj",
   "metadata": {
    "id": "FX_aqiX8TSvj"
   },
   "outputs": [],
   "source": [
    "X_train, X_test, y_train, y_test = train_test_split(X, y, test_size = 0.3, random_state=RANDOM_STATE)"
   ]
  },
  {
   "cell_type": "code",
   "execution_count": 39,
   "id": "Lwdmh5OjSzKB",
   "metadata": {
    "id": "Lwdmh5OjSzKB"
   },
   "outputs": [
    {
     "data": {
      "text/html": [
       "<div>\n",
       "<style scoped>\n",
       "    .dataframe tbody tr th:only-of-type {\n",
       "        vertical-align: middle;\n",
       "    }\n",
       "\n",
       "    .dataframe tbody tr th {\n",
       "        vertical-align: top;\n",
       "    }\n",
       "\n",
       "    .dataframe thead th {\n",
       "        text-align: right;\n",
       "    }\n",
       "</style>\n",
       "<table border=\"1\" class=\"dataframe\">\n",
       "  <thead>\n",
       "    <tr style=\"text-align: right;\">\n",
       "      <th></th>\n",
       "      <th>model</th>\n",
       "      <th>training time, s</th>\n",
       "      <th>r2</th>\n",
       "      <th>mae</th>\n",
       "    </tr>\n",
       "  </thead>\n",
       "  <tbody>\n",
       "  </tbody>\n",
       "</table>\n",
       "</div>"
      ],
      "text/plain": [
       "Empty DataFrame\n",
       "Columns: [model, training time, s, r2, mae]\n",
       "Index: []"
      ]
     },
     "execution_count": 39,
     "metadata": {},
     "output_type": "execute_result"
    }
   ],
   "source": [
    "model_results = pd.DataFrame({\"model\": [], \"training time, s\": [], \"r2\": [], \"mae\": []})\n",
    "model_results"
   ]
  },
  {
   "cell_type": "code",
   "execution_count": 40,
   "id": "61360fff-bfce-4d06-99a0-434540b3867a",
   "metadata": {},
   "outputs": [],
   "source": [
    "def optuna_train(estimator, params):\n",
    "    study = optuna.create_study(sampler=optuna.samplers.BruteForceSampler(seed=RANDOM_STATE), direction=\"maximize\")\n",
    "\n",
    "    model = optuna.integration.OptunaSearchCV(\n",
    "        estimator,\n",
    "        params,\n",
    "        scoring=\"r2\",\n",
    "        n_jobs=4,\n",
    "        random_state=RANDOM_STATE,\n",
    "        study=study\n",
    "    )\n",
    "\n",
    "    results = cross_validate(\n",
    "        estimator=model,\n",
    "        X=X_train,\n",
    "        y=y_train,\n",
    "        cv=StratifiedKFold(shuffle=True, random_state=RANDOM_STATE),\n",
    "        scoring=[\"r2\", \"neg_mean_absolute_error\"],\n",
    "        n_jobs=4,\n",
    "        return_estimator=True\n",
    "    )\n",
    "\n",
    "    clear_output()\n",
    "    for fold, estimator in enumerate(results[\"estimator\"], start=1):\n",
    "        print(f\"Best params for fold #{fold}:\", estimator.best_params_)\n",
    "    print()\n",
    "\n",
    "    results = pd.DataFrame(results).rename(\n",
    "        columns={\"fit_time\": \"fit time, s\",\n",
    "                 \"score_time\": \"score time, s\",\n",
    "                 \"test_r2\": \"r2\",\n",
    "                 \"test_neg_mean_absolute_error\": \"mae\"}\n",
    "    )\n",
    "    results[\"mae\"] = -results[\"mae\"]\n",
    "    results.drop(columns=[\"estimator\"], inplace=True)\n",
    "    results.index.name = \"fold\"\n",
    "    return results"
   ]
  },
  {
   "cell_type": "markdown",
   "id": "Go72V8j0PGDV",
   "metadata": {
    "id": "Go72V8j0PGDV"
   },
   "source": [
    "### ✈️ Step 6.1 | MyRandomForestRegressor"
   ]
  },
  {
   "cell_type": "code",
   "execution_count": 41,
   "id": "aa8e83c2-9775-4221-9175-d2122ddc74c4",
   "metadata": {},
   "outputs": [
    {
     "name": "stdout",
     "output_type": "stream",
     "text": [
      "Best params for fold #1: {'n_estimators': 5, 'max_depth': 15, 'max_features': 1.0, 'max_samples': 1.0}\n",
      "Best params for fold #2: {'n_estimators': 5, 'max_depth': 15, 'max_features': 1.0, 'max_samples': 1.0}\n",
      "Best params for fold #3: {'n_estimators': 5, 'max_depth': 15, 'max_features': 1.0, 'max_samples': 1.0}\n",
      "Best params for fold #4: {'n_estimators': 3, 'max_depth': 15, 'max_features': 1.0, 'max_samples': 1.0}\n",
      "Best params for fold #5: {'n_estimators': 5, 'max_depth': 15, 'max_features': 1.0, 'max_samples': 1.0}\n",
      "\n",
      "CPU times: user 1.2 s, sys: 187 ms, total: 1.39 s\n",
      "Wall time: 33.4 s\n"
     ]
    },
    {
     "data": {
      "text/html": [
       "<div>\n",
       "<style scoped>\n",
       "    .dataframe tbody tr th:only-of-type {\n",
       "        vertical-align: middle;\n",
       "    }\n",
       "\n",
       "    .dataframe tbody tr th {\n",
       "        vertical-align: top;\n",
       "    }\n",
       "\n",
       "    .dataframe thead th {\n",
       "        text-align: right;\n",
       "    }\n",
       "</style>\n",
       "<table border=\"1\" class=\"dataframe\">\n",
       "  <thead>\n",
       "    <tr style=\"text-align: right;\">\n",
       "      <th></th>\n",
       "      <th>fit time, s</th>\n",
       "      <th>score time, s</th>\n",
       "      <th>r2</th>\n",
       "      <th>mae</th>\n",
       "    </tr>\n",
       "    <tr>\n",
       "      <th>fold</th>\n",
       "      <th></th>\n",
       "      <th></th>\n",
       "      <th></th>\n",
       "      <th></th>\n",
       "    </tr>\n",
       "  </thead>\n",
       "  <tbody>\n",
       "    <tr>\n",
       "      <th>0</th>\n",
       "      <td>24.508722</td>\n",
       "      <td>0.053874</td>\n",
       "      <td>0.971410</td>\n",
       "      <td>1860.886760</td>\n",
       "    </tr>\n",
       "    <tr>\n",
       "      <th>1</th>\n",
       "      <td>23.976752</td>\n",
       "      <td>0.053865</td>\n",
       "      <td>0.971673</td>\n",
       "      <td>1832.853311</td>\n",
       "    </tr>\n",
       "    <tr>\n",
       "      <th>2</th>\n",
       "      <td>24.656189</td>\n",
       "      <td>0.050766</td>\n",
       "      <td>0.971545</td>\n",
       "      <td>1872.271061</td>\n",
       "    </tr>\n",
       "    <tr>\n",
       "      <th>3</th>\n",
       "      <td>18.332062</td>\n",
       "      <td>0.031732</td>\n",
       "      <td>0.972290</td>\n",
       "      <td>1848.179811</td>\n",
       "    </tr>\n",
       "    <tr>\n",
       "      <th>4</th>\n",
       "      <td>13.202491</td>\n",
       "      <td>0.033613</td>\n",
       "      <td>0.972562</td>\n",
       "      <td>1818.330690</td>\n",
       "    </tr>\n",
       "  </tbody>\n",
       "</table>\n",
       "</div>"
      ],
      "text/plain": [
       "      fit time, s  score time, s        r2          mae\n",
       "fold                                                   \n",
       "0       24.508722       0.053874  0.971410  1860.886760\n",
       "1       23.976752       0.053865  0.971673  1832.853311\n",
       "2       24.656189       0.050766  0.971545  1872.271061\n",
       "3       18.332062       0.031732  0.972290  1848.179811\n",
       "4       13.202491       0.033613  0.972562  1818.330690"
      ]
     },
     "execution_count": 41,
     "metadata": {},
     "output_type": "execute_result"
    }
   ],
   "source": [
    "%%time\n",
    "optuna_train(\n",
    "    estimator=MyRandomForestRegressor(random_state=RANDOM_STATE),\n",
    "    params={\n",
    "        \"n_estimators\": optuna.distributions.CategoricalDistribution([3, 5, 7, 10, 15]),\n",
    "        \"max_depth\": optuna.distributions.CategoricalDistribution([5, 10, 15]),\n",
    "        \"max_features\": optuna.distributions.CategoricalDistribution([0.333, 0.666, 1.0]),\n",
    "        \"max_samples\": optuna.distributions.CategoricalDistribution([0.333, 0.666, 1.0]),\n",
    "    }\n",
    ")"
   ]
  },
  {
   "cell_type": "code",
   "execution_count": 42,
   "id": "168ec06d-7abf-48fb-9592-84229c3ff623",
   "metadata": {},
   "outputs": [],
   "source": [
    "# Train model on X_train with the best parameters\n",
    "start_time = time.time()\n",
    "model = MyRandomForestRegressor(\n",
    "    n_estimators=5,\n",
    "    max_depth=15,\n",
    "    max_features=1.0,\n",
    "    max_samples=1.0,\n",
    "    random_state=RANDOM_STATE\n",
    ")\n",
    "model.fit(X_train, y_train)\n",
    "training_time = time.time() - start_time\n",
    "\n",
    "# Test model in X_test and store results\n",
    "y_pred = model.predict(X_test)\n",
    "model_results = model_results.append({\n",
    "    \"model\": \"MyRandomForestRegressor\",\n",
    "    \"training time, s\": training_time,\n",
    "    \"r2\": r2_score(y_test, y_pred),\n",
    "    \"mae\": mean_absolute_error(y_test, y_pred)\n",
    "}, ignore_index = True)"
   ]
  },
  {
   "cell_type": "markdown",
   "id": "24ec7b66-1ce5-4c78-8a82-e6f6409e6115",
   "metadata": {},
   "source": [
    "### ✈️ Step 6.2 | MyAdaBoost"
   ]
  },
  {
   "cell_type": "code",
   "execution_count": 43,
   "id": "0e1b12f0-14aa-4797-a715-e0a0d1e43903",
   "metadata": {},
   "outputs": [
    {
     "name": "stdout",
     "output_type": "stream",
     "text": [
      "Best params for fold #1: {'n_estimators': 10, 'max_depth': 15}\n",
      "Best params for fold #2: {'n_estimators': 10, 'max_depth': 15}\n",
      "Best params for fold #3: {'n_estimators': 10, 'max_depth': 15}\n",
      "Best params for fold #4: {'n_estimators': 10, 'max_depth': 15}\n",
      "Best params for fold #5: {'n_estimators': 10, 'max_depth': 15}\n",
      "\n",
      "CPU times: user 2.1 s, sys: 454 ms, total: 2.55 s\n",
      "Wall time: 2min 20s\n"
     ]
    },
    {
     "data": {
      "text/html": [
       "<div>\n",
       "<style scoped>\n",
       "    .dataframe tbody tr th:only-of-type {\n",
       "        vertical-align: middle;\n",
       "    }\n",
       "\n",
       "    .dataframe tbody tr th {\n",
       "        vertical-align: top;\n",
       "    }\n",
       "\n",
       "    .dataframe thead th {\n",
       "        text-align: right;\n",
       "    }\n",
       "</style>\n",
       "<table border=\"1\" class=\"dataframe\">\n",
       "  <thead>\n",
       "    <tr style=\"text-align: right;\">\n",
       "      <th></th>\n",
       "      <th>fit time, s</th>\n",
       "      <th>score time, s</th>\n",
       "      <th>r2</th>\n",
       "      <th>mae</th>\n",
       "    </tr>\n",
       "    <tr>\n",
       "      <th>fold</th>\n",
       "      <th></th>\n",
       "      <th></th>\n",
       "      <th></th>\n",
       "      <th></th>\n",
       "    </tr>\n",
       "  </thead>\n",
       "  <tbody>\n",
       "    <tr>\n",
       "      <th>0</th>\n",
       "      <td>106.786185</td>\n",
       "      <td>0.094009</td>\n",
       "      <td>0.975992</td>\n",
       "      <td>1767.131293</td>\n",
       "    </tr>\n",
       "    <tr>\n",
       "      <th>1</th>\n",
       "      <td>107.014202</td>\n",
       "      <td>0.103639</td>\n",
       "      <td>0.976374</td>\n",
       "      <td>1764.905955</td>\n",
       "    </tr>\n",
       "    <tr>\n",
       "      <th>2</th>\n",
       "      <td>107.099502</td>\n",
       "      <td>0.089797</td>\n",
       "      <td>0.975723</td>\n",
       "      <td>1798.013943</td>\n",
       "    </tr>\n",
       "    <tr>\n",
       "      <th>3</th>\n",
       "      <td>108.344262</td>\n",
       "      <td>0.074659</td>\n",
       "      <td>0.976361</td>\n",
       "      <td>1791.477827</td>\n",
       "    </tr>\n",
       "    <tr>\n",
       "      <th>4</th>\n",
       "      <td>32.320284</td>\n",
       "      <td>0.061894</td>\n",
       "      <td>0.976894</td>\n",
       "      <td>1735.962072</td>\n",
       "    </tr>\n",
       "  </tbody>\n",
       "</table>\n",
       "</div>"
      ],
      "text/plain": [
       "      fit time, s  score time, s        r2          mae\n",
       "fold                                                   \n",
       "0      106.786185       0.094009  0.975992  1767.131293\n",
       "1      107.014202       0.103639  0.976374  1764.905955\n",
       "2      107.099502       0.089797  0.975723  1798.013943\n",
       "3      108.344262       0.074659  0.976361  1791.477827\n",
       "4       32.320284       0.061894  0.976894  1735.962072"
      ]
     },
     "execution_count": 43,
     "metadata": {},
     "output_type": "execute_result"
    }
   ],
   "source": [
    "%%time\n",
    "optuna_train(\n",
    "    estimator=MyAdaBoost(random_state=RANDOM_STATE),\n",
    "    params={\n",
    "        \"n_estimators\": optuna.distributions.CategoricalDistribution([3, 5, 7, 10, 15]),\n",
    "        \"max_depth\": optuna.distributions.CategoricalDistribution([5, 10, 15]),\n",
    "    }\n",
    ")"
   ]
  },
  {
   "cell_type": "code",
   "execution_count": 44,
   "id": "14517ee8-bc69-4f13-b76b-7710e5f69635",
   "metadata": {},
   "outputs": [],
   "source": [
    "# Train model on X_train with the best parameters\n",
    "start_time = time.time()\n",
    "model = MyAdaBoost(\n",
    "    n_estimators=10,\n",
    "    max_depth=15,\n",
    "    random_state=RANDOM_STATE\n",
    ")\n",
    "model.fit(X_train, y_train)\n",
    "training_time = time.time() - start_time\n",
    "\n",
    "# Test model in X_test and store results\n",
    "y_pred = model.predict(X_test)\n",
    "model_results = model_results.append({\n",
    "    \"model\": \"MyAdaBoost\",\n",
    "    \"training time, s\": training_time,\n",
    "    \"r2\": r2_score(y_test, y_pred),\n",
    "    \"mae\": mean_absolute_error(y_test, y_pred)\n",
    "}, ignore_index = True)"
   ]
  },
  {
   "cell_type": "markdown",
   "id": "ef2963d8-592e-48fc-987b-66223bb2622c",
   "metadata": {},
   "source": [
    "### ✈️ Step 6.3 | BaggingRegressor (sklearn)"
   ]
  },
  {
   "cell_type": "code",
   "execution_count": 45,
   "id": "ca082060-d31f-4474-8ab5-aaab68cda048",
   "metadata": {},
   "outputs": [
    {
     "name": "stdout",
     "output_type": "stream",
     "text": [
      "Best params for fold #1: {'n_estimators': 3, 'max_samples': 0.666, 'max_features': 0.666}\n",
      "Best params for fold #2: {'n_estimators': 3, 'max_samples': 0.666, 'max_features': 0.666}\n",
      "Best params for fold #3: {'n_estimators': 3, 'max_samples': 0.666, 'max_features': 0.666}\n",
      "Best params for fold #4: {'n_estimators': 3, 'max_samples': 0.666, 'max_features': 0.666}\n",
      "Best params for fold #5: {'n_estimators': 3, 'max_samples': 0.666, 'max_features': 0.666}\n",
      "\n",
      "CPU times: user 1.03 s, sys: 59.7 ms, total: 1.09 s\n",
      "Wall time: 11.4 s\n"
     ]
    },
    {
     "data": {
      "text/html": [
       "<div>\n",
       "<style scoped>\n",
       "    .dataframe tbody tr th:only-of-type {\n",
       "        vertical-align: middle;\n",
       "    }\n",
       "\n",
       "    .dataframe tbody tr th {\n",
       "        vertical-align: top;\n",
       "    }\n",
       "\n",
       "    .dataframe thead th {\n",
       "        text-align: right;\n",
       "    }\n",
       "</style>\n",
       "<table border=\"1\" class=\"dataframe\">\n",
       "  <thead>\n",
       "    <tr style=\"text-align: right;\">\n",
       "      <th></th>\n",
       "      <th>fit time, s</th>\n",
       "      <th>score time, s</th>\n",
       "      <th>r2</th>\n",
       "      <th>mae</th>\n",
       "    </tr>\n",
       "    <tr>\n",
       "      <th>fold</th>\n",
       "      <th></th>\n",
       "      <th></th>\n",
       "      <th></th>\n",
       "      <th></th>\n",
       "    </tr>\n",
       "  </thead>\n",
       "  <tbody>\n",
       "    <tr>\n",
       "      <th>0</th>\n",
       "      <td>8.030215</td>\n",
       "      <td>0.040057</td>\n",
       "      <td>0.872752</td>\n",
       "      <td>5869.177448</td>\n",
       "    </tr>\n",
       "    <tr>\n",
       "      <th>1</th>\n",
       "      <td>7.853992</td>\n",
       "      <td>0.035175</td>\n",
       "      <td>0.872110</td>\n",
       "      <td>5900.931882</td>\n",
       "    </tr>\n",
       "    <tr>\n",
       "      <th>2</th>\n",
       "      <td>7.029658</td>\n",
       "      <td>0.029337</td>\n",
       "      <td>0.873525</td>\n",
       "      <td>5867.533475</td>\n",
       "    </tr>\n",
       "    <tr>\n",
       "      <th>3</th>\n",
       "      <td>7.834213</td>\n",
       "      <td>0.037772</td>\n",
       "      <td>0.873085</td>\n",
       "      <td>5866.114008</td>\n",
       "    </tr>\n",
       "    <tr>\n",
       "      <th>4</th>\n",
       "      <td>3.309936</td>\n",
       "      <td>0.024299</td>\n",
       "      <td>0.874512</td>\n",
       "      <td>5849.089898</td>\n",
       "    </tr>\n",
       "  </tbody>\n",
       "</table>\n",
       "</div>"
      ],
      "text/plain": [
       "      fit time, s  score time, s        r2          mae\n",
       "fold                                                   \n",
       "0        8.030215       0.040057  0.872752  5869.177448\n",
       "1        7.853992       0.035175  0.872110  5900.931882\n",
       "2        7.029658       0.029337  0.873525  5867.533475\n",
       "3        7.834213       0.037772  0.873085  5866.114008\n",
       "4        3.309936       0.024299  0.874512  5849.089898"
      ]
     },
     "execution_count": 45,
     "metadata": {},
     "output_type": "execute_result"
    }
   ],
   "source": [
    "%%time\n",
    "optuna_train(\n",
    "    estimator=BaggingRegressor(random_state=RANDOM_STATE),\n",
    "    params={\n",
    "        \"n_estimators\": optuna.distributions.CategoricalDistribution([3, 5, 7, 10, 15]),\n",
    "        \"max_samples\": optuna.distributions.CategoricalDistribution([0.333, 0.666, 1]),\n",
    "        \"max_features\": optuna.distributions.CategoricalDistribution([0.333, 0.666, 1]),\n",
    "    }\n",
    ")"
   ]
  },
  {
   "cell_type": "code",
   "execution_count": 46,
   "id": "49b64f66-6e71-4f1a-9675-3cc56fd00768",
   "metadata": {},
   "outputs": [],
   "source": [
    "# Train model on X_train with the best parameters\n",
    "start_time = time.time()\n",
    "model = BaggingRegressor(\n",
    "    n_estimators=3,\n",
    "    max_samples=0.666,\n",
    "    max_features=0.666,\n",
    "    random_state=RANDOM_STATE\n",
    ")\n",
    "model.fit(X_train, y_train)\n",
    "training_time = time.time() - start_time\n",
    "\n",
    "# Test model in X_test and store results\n",
    "y_pred = model.predict(X_test)\n",
    "model_results = model_results.append({\n",
    "    \"model\": \"BaggingRegressor\",\n",
    "    \"training time, s\": training_time,\n",
    "    \"r2\": r2_score(y_test, y_pred),\n",
    "    \"mae\": mean_absolute_error(y_test, y_pred)\n",
    "}, ignore_index = True)"
   ]
  },
  {
   "cell_type": "markdown",
   "id": "02fc2420-1e10-4113-a843-6cb79149bd01",
   "metadata": {},
   "source": [
    "### ✈️ Step 6.4 | RandomForestRegressor (sklearn)"
   ]
  },
  {
   "cell_type": "code",
   "execution_count": 47,
   "id": "a3a3a33b-705f-4102-8729-b6aca5aca533",
   "metadata": {},
   "outputs": [
    {
     "name": "stdout",
     "output_type": "stream",
     "text": [
      "Best params for fold #1: {'n_estimators': 5, 'max_depth': 15, 'max_features': 1.0, 'max_samples': 1.0}\n",
      "Best params for fold #2: {'n_estimators': 5, 'max_depth': 15, 'max_features': 1.0, 'max_samples': 1.0}\n",
      "Best params for fold #3: {'n_estimators': 5, 'max_depth': 15, 'max_features': 1.0, 'max_samples': 1.0}\n",
      "Best params for fold #4: {'n_estimators': 5, 'max_depth': 15, 'max_features': 1.0, 'max_samples': 1.0}\n",
      "Best params for fold #5: {'n_estimators': 5, 'max_depth': 15, 'max_features': 1.0, 'max_samples': 1.0}\n",
      "\n",
      "CPU times: user 1.19 s, sys: 150 ms, total: 1.34 s\n",
      "Wall time: 32 s\n"
     ]
    },
    {
     "data": {
      "text/html": [
       "<div>\n",
       "<style scoped>\n",
       "    .dataframe tbody tr th:only-of-type {\n",
       "        vertical-align: middle;\n",
       "    }\n",
       "\n",
       "    .dataframe tbody tr th {\n",
       "        vertical-align: top;\n",
       "    }\n",
       "\n",
       "    .dataframe thead th {\n",
       "        text-align: right;\n",
       "    }\n",
       "</style>\n",
       "<table border=\"1\" class=\"dataframe\">\n",
       "  <thead>\n",
       "    <tr style=\"text-align: right;\">\n",
       "      <th></th>\n",
       "      <th>fit time, s</th>\n",
       "      <th>score time, s</th>\n",
       "      <th>r2</th>\n",
       "      <th>mae</th>\n",
       "    </tr>\n",
       "    <tr>\n",
       "      <th>fold</th>\n",
       "      <th></th>\n",
       "      <th></th>\n",
       "      <th></th>\n",
       "      <th></th>\n",
       "    </tr>\n",
       "  </thead>\n",
       "  <tbody>\n",
       "    <tr>\n",
       "      <th>0</th>\n",
       "      <td>21.290838</td>\n",
       "      <td>0.031305</td>\n",
       "      <td>0.978331</td>\n",
       "      <td>1685.343670</td>\n",
       "    </tr>\n",
       "    <tr>\n",
       "      <th>1</th>\n",
       "      <td>21.401689</td>\n",
       "      <td>0.036014</td>\n",
       "      <td>0.978376</td>\n",
       "      <td>1689.613918</td>\n",
       "    </tr>\n",
       "    <tr>\n",
       "      <th>2</th>\n",
       "      <td>21.951402</td>\n",
       "      <td>0.030856</td>\n",
       "      <td>0.978366</td>\n",
       "      <td>1695.559268</td>\n",
       "    </tr>\n",
       "    <tr>\n",
       "      <th>3</th>\n",
       "      <td>21.553319</td>\n",
       "      <td>0.043051</td>\n",
       "      <td>0.978616</td>\n",
       "      <td>1688.646473</td>\n",
       "    </tr>\n",
       "    <tr>\n",
       "      <th>4</th>\n",
       "      <td>9.674643</td>\n",
       "      <td>0.032211</td>\n",
       "      <td>0.978636</td>\n",
       "      <td>1675.182566</td>\n",
       "    </tr>\n",
       "  </tbody>\n",
       "</table>\n",
       "</div>"
      ],
      "text/plain": [
       "      fit time, s  score time, s        r2          mae\n",
       "fold                                                   \n",
       "0       21.290838       0.031305  0.978331  1685.343670\n",
       "1       21.401689       0.036014  0.978376  1689.613918\n",
       "2       21.951402       0.030856  0.978366  1695.559268\n",
       "3       21.553319       0.043051  0.978616  1688.646473\n",
       "4        9.674643       0.032211  0.978636  1675.182566"
      ]
     },
     "execution_count": 47,
     "metadata": {},
     "output_type": "execute_result"
    }
   ],
   "source": [
    "%%time\n",
    "optuna_train(\n",
    "    estimator=RandomForestRegressor(random_state=RANDOM_STATE),\n",
    "    params={\n",
    "        \"n_estimators\": optuna.distributions.CategoricalDistribution([3, 5, 7, 10, 15]),\n",
    "        \"max_depth\": optuna.distributions.CategoricalDistribution([5, 10, 15]),\n",
    "        \"max_features\": optuna.distributions.CategoricalDistribution([0.333, 0.666, 1.0]),\n",
    "        \"max_samples\": optuna.distributions.CategoricalDistribution([0.333, 0.666, 1.0]),\n",
    "    }\n",
    ")"
   ]
  },
  {
   "cell_type": "code",
   "execution_count": 48,
   "id": "343a27bc-cf31-4f44-a04e-ae46dbf4454d",
   "metadata": {},
   "outputs": [],
   "source": [
    "# Train model on X_train with the best parameters\n",
    "start_time = time.time()\n",
    "model = RandomForestRegressor(\n",
    "    n_estimators=5,\n",
    "    max_depth=15,\n",
    "    max_features=1.0,\n",
    "    max_samples=1.0,\n",
    "    random_state=RANDOM_STATE\n",
    ")\n",
    "model.fit(X_train, y_train)\n",
    "training_time = time.time() - start_time\n",
    "\n",
    "# Test model in X_test and store results\n",
    "y_pred = model.predict(X_test)\n",
    "model_results = model_results.append({\n",
    "    \"model\": \"RandomForestRegressor\",\n",
    "    \"training time, s\": training_time,\n",
    "    \"r2\": r2_score(y_test, y_pred),\n",
    "    \"mae\": mean_absolute_error(y_test, y_pred)\n",
    "}, ignore_index = True)"
   ]
  },
  {
   "cell_type": "markdown",
   "id": "c2a1f19a-1916-4e7c-8432-bc063c4547ce",
   "metadata": {},
   "source": [
    "### ✈️ Step 6.5 | AdaBoostRegressor (sklearn)"
   ]
  },
  {
   "cell_type": "code",
   "execution_count": 49,
   "id": "5391960c-0837-44d0-a2c5-17f118af5bfb",
   "metadata": {},
   "outputs": [
    {
     "name": "stdout",
     "output_type": "stream",
     "text": [
      "Best params for fold #1: {'n_estimators': 10}\n",
      "Best params for fold #2: {'n_estimators': 7}\n",
      "Best params for fold #3: {'n_estimators': 7}\n",
      "Best params for fold #4: {'n_estimators': 10}\n",
      "Best params for fold #5: {'n_estimators': 7}\n",
      "\n",
      "CPU times: user 1.39 s, sys: 144 ms, total: 1.53 s\n",
      "Wall time: 45.5 s\n"
     ]
    },
    {
     "data": {
      "text/html": [
       "<div>\n",
       "<style scoped>\n",
       "    .dataframe tbody tr th:only-of-type {\n",
       "        vertical-align: middle;\n",
       "    }\n",
       "\n",
       "    .dataframe tbody tr th {\n",
       "        vertical-align: top;\n",
       "    }\n",
       "\n",
       "    .dataframe thead th {\n",
       "        text-align: right;\n",
       "    }\n",
       "</style>\n",
       "<table border=\"1\" class=\"dataframe\">\n",
       "  <thead>\n",
       "    <tr style=\"text-align: right;\">\n",
       "      <th></th>\n",
       "      <th>fit time, s</th>\n",
       "      <th>score time, s</th>\n",
       "      <th>r2</th>\n",
       "      <th>mae</th>\n",
       "    </tr>\n",
       "    <tr>\n",
       "      <th>fold</th>\n",
       "      <th></th>\n",
       "      <th></th>\n",
       "      <th></th>\n",
       "      <th></th>\n",
       "    </tr>\n",
       "  </thead>\n",
       "  <tbody>\n",
       "    <tr>\n",
       "      <th>0</th>\n",
       "      <td>34.526391</td>\n",
       "      <td>0.043319</td>\n",
       "      <td>0.935518</td>\n",
       "      <td>3566.880402</td>\n",
       "    </tr>\n",
       "    <tr>\n",
       "      <th>1</th>\n",
       "      <td>33.510767</td>\n",
       "      <td>0.025864</td>\n",
       "      <td>0.934730</td>\n",
       "      <td>3576.613635</td>\n",
       "    </tr>\n",
       "    <tr>\n",
       "      <th>2</th>\n",
       "      <td>34.353867</td>\n",
       "      <td>0.050433</td>\n",
       "      <td>0.936764</td>\n",
       "      <td>3535.371037</td>\n",
       "    </tr>\n",
       "    <tr>\n",
       "      <th>3</th>\n",
       "      <td>35.194270</td>\n",
       "      <td>0.045581</td>\n",
       "      <td>0.936595</td>\n",
       "      <td>3561.612042</td>\n",
       "    </tr>\n",
       "    <tr>\n",
       "      <th>4</th>\n",
       "      <td>10.931407</td>\n",
       "      <td>0.013000</td>\n",
       "      <td>0.936469</td>\n",
       "      <td>3531.804927</td>\n",
       "    </tr>\n",
       "  </tbody>\n",
       "</table>\n",
       "</div>"
      ],
      "text/plain": [
       "      fit time, s  score time, s        r2          mae\n",
       "fold                                                   \n",
       "0       34.526391       0.043319  0.935518  3566.880402\n",
       "1       33.510767       0.025864  0.934730  3576.613635\n",
       "2       34.353867       0.050433  0.936764  3535.371037\n",
       "3       35.194270       0.045581  0.936595  3561.612042\n",
       "4       10.931407       0.013000  0.936469  3531.804927"
      ]
     },
     "execution_count": 49,
     "metadata": {},
     "output_type": "execute_result"
    }
   ],
   "source": [
    "%%time\n",
    "optuna_train(\n",
    "    estimator=AdaBoostRegressor(random_state=RANDOM_STATE),\n",
    "    params={\n",
    "        \"n_estimators\": optuna.distributions.CategoricalDistribution([3, 5, 7, 10, 15]),\n",
    "    }\n",
    ")"
   ]
  },
  {
   "cell_type": "code",
   "execution_count": 50,
   "id": "9be340ce-dc61-476e-9164-e0c7ed87a62d",
   "metadata": {},
   "outputs": [],
   "source": [
    "# Train model on X_train with the best parameters\n",
    "start_time = time.time()\n",
    "model = AdaBoostRegressor(\n",
    "    n_estimators=7,\n",
    "    random_state=RANDOM_STATE\n",
    ")\n",
    "model.fit(X_train, y_train)\n",
    "training_time = time.time() - start_time\n",
    "\n",
    "# Test model in X_test and store results\n",
    "y_pred = model.predict(X_test)\n",
    "model_results = model_results.append({\n",
    "    \"model\": \"AdaBoostRegressor\",\n",
    "    \"training time, s\": training_time,\n",
    "    \"r2\": r2_score(y_test, y_pred),\n",
    "    \"mae\": mean_absolute_error(y_test, y_pred)\n",
    "}, ignore_index = True)"
   ]
  },
  {
   "cell_type": "markdown",
   "id": "c74c9e07-24b9-482f-aed1-b4fe3f10910b",
   "metadata": {},
   "source": [
    "### ✈️ Step 6.6 | GradientBoostingRegressor (sklearn)"
   ]
  },
  {
   "cell_type": "code",
   "execution_count": 51,
   "id": "c3f957e4-bd70-428d-a5d4-ddb9539e411c",
   "metadata": {},
   "outputs": [
    {
     "name": "stdout",
     "output_type": "stream",
     "text": [
      "Best params for fold #1: {'n_estimators': 10, 'max_depth': 5, 'max_features': 0.333}\n",
      "Best params for fold #2: {'n_estimators': 10, 'max_depth': 5, 'max_features': 0.333}\n",
      "Best params for fold #3: {'n_estimators': 10, 'max_depth': 5, 'max_features': 0.333}\n",
      "Best params for fold #4: {'n_estimators': 10, 'max_depth': 5, 'max_features': 0.333}\n",
      "Best params for fold #5: {'n_estimators': 10, 'max_depth': 5, 'max_features': 0.333}\n",
      "\n",
      "CPU times: user 1.4 s, sys: 147 ms, total: 1.55 s\n",
      "Wall time: 52.5 s\n"
     ]
    },
    {
     "data": {
      "text/html": [
       "<div>\n",
       "<style scoped>\n",
       "    .dataframe tbody tr th:only-of-type {\n",
       "        vertical-align: middle;\n",
       "    }\n",
       "\n",
       "    .dataframe tbody tr th {\n",
       "        vertical-align: top;\n",
       "    }\n",
       "\n",
       "    .dataframe thead th {\n",
       "        text-align: right;\n",
       "    }\n",
       "</style>\n",
       "<table border=\"1\" class=\"dataframe\">\n",
       "  <thead>\n",
       "    <tr style=\"text-align: right;\">\n",
       "      <th></th>\n",
       "      <th>fit time, s</th>\n",
       "      <th>score time, s</th>\n",
       "      <th>r2</th>\n",
       "      <th>mae</th>\n",
       "    </tr>\n",
       "    <tr>\n",
       "      <th>fold</th>\n",
       "      <th></th>\n",
       "      <th></th>\n",
       "      <th></th>\n",
       "      <th></th>\n",
       "    </tr>\n",
       "  </thead>\n",
       "  <tbody>\n",
       "    <tr>\n",
       "      <th>0</th>\n",
       "      <td>38.208567</td>\n",
       "      <td>0.022149</td>\n",
       "      <td>0.749681</td>\n",
       "      <td>9070.754897</td>\n",
       "    </tr>\n",
       "    <tr>\n",
       "      <th>1</th>\n",
       "      <td>34.977699</td>\n",
       "      <td>0.016664</td>\n",
       "      <td>0.747862</td>\n",
       "      <td>9103.041919</td>\n",
       "    </tr>\n",
       "    <tr>\n",
       "      <th>2</th>\n",
       "      <td>35.588257</td>\n",
       "      <td>0.024933</td>\n",
       "      <td>0.748882</td>\n",
       "      <td>9099.369102</td>\n",
       "    </tr>\n",
       "    <tr>\n",
       "      <th>3</th>\n",
       "      <td>35.010654</td>\n",
       "      <td>0.019215</td>\n",
       "      <td>0.748640</td>\n",
       "      <td>9086.869980</td>\n",
       "    </tr>\n",
       "    <tr>\n",
       "      <th>4</th>\n",
       "      <td>16.547014</td>\n",
       "      <td>0.012489</td>\n",
       "      <td>0.771908</td>\n",
       "      <td>8606.603460</td>\n",
       "    </tr>\n",
       "  </tbody>\n",
       "</table>\n",
       "</div>"
      ],
      "text/plain": [
       "      fit time, s  score time, s        r2          mae\n",
       "fold                                                   \n",
       "0       38.208567       0.022149  0.749681  9070.754897\n",
       "1       34.977699       0.016664  0.747862  9103.041919\n",
       "2       35.588257       0.024933  0.748882  9099.369102\n",
       "3       35.010654       0.019215  0.748640  9086.869980\n",
       "4       16.547014       0.012489  0.771908  8606.603460"
      ]
     },
     "execution_count": 51,
     "metadata": {},
     "output_type": "execute_result"
    }
   ],
   "source": [
    "%%time\n",
    "optuna_train(\n",
    "    estimator=GradientBoostingRegressor(random_state=RANDOM_STATE),\n",
    "    params={\n",
    "        \"n_estimators\": optuna.distributions.CategoricalDistribution([3, 5, 7, 10, 15]),\n",
    "        \"max_depth\": optuna.distributions.CategoricalDistribution([5, 10, 15]),\n",
    "        \"max_features\": optuna.distributions.CategoricalDistribution([0.333, 0.666, 1.0])\n",
    "    }\n",
    ")"
   ]
  },
  {
   "cell_type": "code",
   "execution_count": 52,
   "id": "5d6e31a9-6bd0-4733-a368-4c702f6eb776",
   "metadata": {},
   "outputs": [],
   "source": [
    "# Train model on X_train with the best parameters\n",
    "start_time = time.time()\n",
    "model = GradientBoostingRegressor(\n",
    "    n_estimators=10,\n",
    "    max_depth=5,\n",
    "    max_features=0.333,\n",
    "    random_state=RANDOM_STATE\n",
    ")\n",
    "model.fit(X_train, y_train)\n",
    "training_time = time.time() - start_time\n",
    "\n",
    "# Test model in X_test and store results\n",
    "y_pred = model.predict(X_test)\n",
    "model_results = model_results.append({\n",
    "    \"model\": \"GradientBoostingRegressor\",\n",
    "    \"training time, s\": training_time,\n",
    "    \"r2\": r2_score(y_test, y_pred),\n",
    "    \"mae\": mean_absolute_error(y_test, y_pred)\n",
    "}, ignore_index = True)"
   ]
  },
  {
   "cell_type": "markdown",
   "id": "f1f6435e-a6d3-42a0-ae28-8a6bac6f6b48",
   "metadata": {},
   "source": [
    "### ✈️ Step 6.7 | HistGradientBoostingRegressor (sklearn)"
   ]
  },
  {
   "cell_type": "code",
   "execution_count": 53,
   "id": "46742cd4-3ff0-4ac6-91b8-65c560aeae44",
   "metadata": {},
   "outputs": [
    {
     "name": "stdout",
     "output_type": "stream",
     "text": [
      "Best params for fold #1: {'max_iter': 10, 'max_depth': 5, 'max_features': 0.333}\n",
      "Best params for fold #2: {'max_iter': 10, 'max_depth': 5, 'max_features': 0.333}\n",
      "Best params for fold #3: {'max_iter': 10, 'max_depth': 5, 'max_features': 0.333}\n",
      "Best params for fold #4: {'max_iter': 10, 'max_depth': 5, 'max_features': 0.333}\n",
      "Best params for fold #5: {'max_iter': 10, 'max_depth': 5, 'max_features': 0.333}\n",
      "\n",
      "CPU times: user 997 ms, sys: 45.8 ms, total: 1.04 s\n",
      "Wall time: 17.6 s\n"
     ]
    },
    {
     "data": {
      "text/html": [
       "<div>\n",
       "<style scoped>\n",
       "    .dataframe tbody tr th:only-of-type {\n",
       "        vertical-align: middle;\n",
       "    }\n",
       "\n",
       "    .dataframe tbody tr th {\n",
       "        vertical-align: top;\n",
       "    }\n",
       "\n",
       "    .dataframe thead th {\n",
       "        text-align: right;\n",
       "    }\n",
       "</style>\n",
       "<table border=\"1\" class=\"dataframe\">\n",
       "  <thead>\n",
       "    <tr style=\"text-align: right;\">\n",
       "      <th></th>\n",
       "      <th>fit time, s</th>\n",
       "      <th>score time, s</th>\n",
       "      <th>r2</th>\n",
       "      <th>mae</th>\n",
       "    </tr>\n",
       "    <tr>\n",
       "      <th>fold</th>\n",
       "      <th></th>\n",
       "      <th></th>\n",
       "      <th></th>\n",
       "      <th></th>\n",
       "    </tr>\n",
       "  </thead>\n",
       "  <tbody>\n",
       "    <tr>\n",
       "      <th>0</th>\n",
       "      <td>12.954146</td>\n",
       "      <td>0.021242</td>\n",
       "      <td>0.801334</td>\n",
       "      <td>8054.836682</td>\n",
       "    </tr>\n",
       "    <tr>\n",
       "      <th>1</th>\n",
       "      <td>13.288812</td>\n",
       "      <td>0.020211</td>\n",
       "      <td>0.818842</td>\n",
       "      <td>7640.265506</td>\n",
       "    </tr>\n",
       "    <tr>\n",
       "      <th>2</th>\n",
       "      <td>12.943253</td>\n",
       "      <td>0.022087</td>\n",
       "      <td>0.819792</td>\n",
       "      <td>7617.223144</td>\n",
       "    </tr>\n",
       "    <tr>\n",
       "      <th>3</th>\n",
       "      <td>13.296215</td>\n",
       "      <td>0.018312</td>\n",
       "      <td>0.819478</td>\n",
       "      <td>7613.244950</td>\n",
       "    </tr>\n",
       "    <tr>\n",
       "      <th>4</th>\n",
       "      <td>3.615853</td>\n",
       "      <td>0.008941</td>\n",
       "      <td>0.822616</td>\n",
       "      <td>7549.106772</td>\n",
       "    </tr>\n",
       "  </tbody>\n",
       "</table>\n",
       "</div>"
      ],
      "text/plain": [
       "      fit time, s  score time, s        r2          mae\n",
       "fold                                                   \n",
       "0       12.954146       0.021242  0.801334  8054.836682\n",
       "1       13.288812       0.020211  0.818842  7640.265506\n",
       "2       12.943253       0.022087  0.819792  7617.223144\n",
       "3       13.296215       0.018312  0.819478  7613.244950\n",
       "4        3.615853       0.008941  0.822616  7549.106772"
      ]
     },
     "execution_count": 53,
     "metadata": {},
     "output_type": "execute_result"
    }
   ],
   "source": [
    "%%time\n",
    "optuna_train(\n",
    "    estimator=HistGradientBoostingRegressor(random_state=RANDOM_STATE),\n",
    "    params={\n",
    "        \"max_iter\": optuna.distributions.CategoricalDistribution([3, 5, 7, 10, 15]),\n",
    "        \"max_depth\": optuna.distributions.CategoricalDistribution([5, 10, 15]),\n",
    "        \"max_features\": optuna.distributions.CategoricalDistribution([0.333, 0.666, 1.0])\n",
    "    }\n",
    ")"
   ]
  },
  {
   "cell_type": "code",
   "execution_count": 54,
   "id": "53b4e0db-6ecb-45fb-9085-1814a52492da",
   "metadata": {},
   "outputs": [],
   "source": [
    "# Train model on X_train with the best parameters\n",
    "start_time = time.time()\n",
    "model = HistGradientBoostingRegressor(\n",
    "    max_iter=10,\n",
    "    max_depth=5,\n",
    "    max_features=0.333,\n",
    "    random_state=RANDOM_STATE\n",
    ")\n",
    "model.fit(X_train, y_train)\n",
    "training_time = time.time() - start_time\n",
    "\n",
    "# Test model in X_test and store results\n",
    "y_pred = model.predict(X_test)\n",
    "model_results = model_results.append({\n",
    "    \"model\": \"HistGradientBoostingRegressor\",\n",
    "    \"training time, s\": training_time,\n",
    "    \"r2\": r2_score(y_test, y_pred),\n",
    "    \"mae\": mean_absolute_error(y_test, y_pred)\n",
    "}, ignore_index = True)"
   ]
  },
  {
   "cell_type": "markdown",
   "id": "64811acf-57a7-43c9-88ae-d484013f674c",
   "metadata": {},
   "source": [
    "### ✈️ Step 6.8 | LGBMRegressor (lightgmb)"
   ]
  },
  {
   "cell_type": "code",
   "execution_count": 55,
   "id": "89535be0-3017-4ddb-8233-e50536099cd2",
   "metadata": {},
   "outputs": [
    {
     "name": "stdout",
     "output_type": "stream",
     "text": [
      "Best params for fold #1: {'n_estimators': 20, 'max_depth': 15}\n",
      "Best params for fold #2: {'n_estimators': 20, 'max_depth': 15}\n",
      "Best params for fold #3: {'n_estimators': 20, 'max_depth': 15}\n",
      "Best params for fold #4: {'n_estimators': 20, 'max_depth': 15}\n",
      "Best params for fold #5: {'n_estimators': 20, 'max_depth': 15}\n",
      "\n",
      "CPU times: user 2.03 s, sys: 194 ms, total: 2.23 s\n",
      "Wall time: 3min 29s\n"
     ]
    },
    {
     "data": {
      "text/html": [
       "<div>\n",
       "<style scoped>\n",
       "    .dataframe tbody tr th:only-of-type {\n",
       "        vertical-align: middle;\n",
       "    }\n",
       "\n",
       "    .dataframe tbody tr th {\n",
       "        vertical-align: top;\n",
       "    }\n",
       "\n",
       "    .dataframe thead th {\n",
       "        text-align: right;\n",
       "    }\n",
       "</style>\n",
       "<table border=\"1\" class=\"dataframe\">\n",
       "  <thead>\n",
       "    <tr style=\"text-align: right;\">\n",
       "      <th></th>\n",
       "      <th>fit time, s</th>\n",
       "      <th>score time, s</th>\n",
       "      <th>r2</th>\n",
       "      <th>mae</th>\n",
       "    </tr>\n",
       "    <tr>\n",
       "      <th>fold</th>\n",
       "      <th></th>\n",
       "      <th></th>\n",
       "      <th></th>\n",
       "      <th></th>\n",
       "    </tr>\n",
       "  </thead>\n",
       "  <tbody>\n",
       "    <tr>\n",
       "      <th>0</th>\n",
       "      <td>150.887416</td>\n",
       "      <td>0.045246</td>\n",
       "      <td>0.944630</td>\n",
       "      <td>3716.228968</td>\n",
       "    </tr>\n",
       "    <tr>\n",
       "      <th>1</th>\n",
       "      <td>208.396362</td>\n",
       "      <td>0.007058</td>\n",
       "      <td>0.943618</td>\n",
       "      <td>3748.482631</td>\n",
       "    </tr>\n",
       "    <tr>\n",
       "      <th>2</th>\n",
       "      <td>206.077742</td>\n",
       "      <td>0.050030</td>\n",
       "      <td>0.943971</td>\n",
       "      <td>3746.773515</td>\n",
       "    </tr>\n",
       "    <tr>\n",
       "      <th>3</th>\n",
       "      <td>160.967279</td>\n",
       "      <td>0.056562</td>\n",
       "      <td>0.943942</td>\n",
       "      <td>3735.495828</td>\n",
       "    </tr>\n",
       "    <tr>\n",
       "      <th>4</th>\n",
       "      <td>56.959779</td>\n",
       "      <td>0.029520</td>\n",
       "      <td>0.945020</td>\n",
       "      <td>3712.803714</td>\n",
       "    </tr>\n",
       "  </tbody>\n",
       "</table>\n",
       "</div>"
      ],
      "text/plain": [
       "      fit time, s  score time, s        r2          mae\n",
       "fold                                                   \n",
       "0      150.887416       0.045246  0.944630  3716.228968\n",
       "1      208.396362       0.007058  0.943618  3748.482631\n",
       "2      206.077742       0.050030  0.943971  3746.773515\n",
       "3      160.967279       0.056562  0.943942  3735.495828\n",
       "4       56.959779       0.029520  0.945020  3712.803714"
      ]
     },
     "execution_count": 55,
     "metadata": {},
     "output_type": "execute_result"
    },
    {
     "name": "stdout",
     "output_type": "stream",
     "text": [
      "[LightGBM] [Warning] Accuracy may be bad since you didn't explicitly set num_leaves OR 2^max_depth > num_leaves. (num_leaves=31).\n",
      "[LightGBM] [Warning] Accuracy may be bad since you didn't explicitly set num_leaves OR 2^max_depth > num_leaves. (num_leaves=31).\n",
      "[LightGBM] [Info] Auto-choosing row-wise multi-threading, the overhead of testing was 0.450630 seconds.\n",
      "You can set `force_row_wise=true` to remove the overhead.\n",
      "And if memory is not enough, you can set `force_col_wise=true`.\n",
      "[LightGBM] [Info] Total Bins 340\n",
      "[LightGBM] [Info] Number of data points in the train set: 168086, number of used features: 9\n",
      "[LightGBM] [Info] Start training from score 20893.789013\n",
      "[LightGBM] [Warning] Accuracy may be bad since you didn't explicitly set num_leaves OR 2^max_depth > num_leaves. (num_leaves=31).\n",
      "[LightGBM] [Warning] Accuracy may be bad since you didn't explicitly set num_leaves OR 2^max_depth > num_leaves. (num_leaves=31).\n",
      "[LightGBM] [Warning] Accuracy may be bad since you didn't explicitly set num_leaves OR 2^max_depth > num_leaves. (num_leaves=31).\n",
      "[LightGBM] [Info] Auto-choosing row-wise multi-threading, the overhead of testing was 0.340009 seconds.\n",
      "You can set `force_row_wise=true` to remove the overhead.\n",
      "And if memory is not enough, you can set `force_col_wise=true`.\n",
      "[LightGBM] [Info] Total Bins 340\n",
      "[LightGBM] [Info] Number of data points in the train set: 168086, number of used features: 9\n",
      "[LightGBM] [Info] Start training from score 20884.929560\n",
      "[LightGBM] [Warning] Accuracy may be bad since you didn't explicitly set num_leaves OR 2^max_depth > num_leaves. (num_leaves=31).\n",
      "[LightGBM] [Warning] Accuracy may be bad since you didn't explicitly set num_leaves OR 2^max_depth > num_leaves. (num_leaves=31).\n",
      "[LightGBM] [Warning] Accuracy may be bad since you didn't explicitly set num_leaves OR 2^max_depth > num_leaves. (num_leaves=31).\n",
      "[LightGBM] [Info] Auto-choosing row-wise multi-threading, the overhead of testing was 0.004752 seconds.\n",
      "You can set `force_row_wise=true` to remove the overhead.\n",
      "And if memory is not enough, you can set `force_col_wise=true`.\n",
      "[LightGBM] [Info] Total Bins 340\n",
      "[LightGBM] [Info] Number of data points in the train set: 168085, number of used features: 9\n",
      "[LightGBM] [Info] Start training from score 20887.995395\n",
      "[LightGBM] [Warning] Accuracy may be bad since you didn't explicitly set num_leaves OR 2^max_depth > num_leaves. (num_leaves=31).\n"
     ]
    }
   ],
   "source": [
    "%%time\n",
    "optuna_train(\n",
    "    estimator=LGBMRegressor(random_state=RANDOM_STATE),\n",
    "    params={\n",
    "        \"n_estimators\": optuna.distributions.CategoricalDistribution([10, 20]),\n",
    "        \"max_depth\": optuna.distributions.CategoricalDistribution([10, 15]),\n",
    "    }\n",
    ")"
   ]
  },
  {
   "cell_type": "code",
   "execution_count": 56,
   "id": "300d6db5-6e59-4368-a0f7-b9b2def0463e",
   "metadata": {},
   "outputs": [],
   "source": [
    "# Train model on X_train with the best parameters\n",
    "start_time = time.time()\n",
    "model = LGBMRegressor(\n",
    "    n_estimators=20,\n",
    "    max_depth=15,\n",
    "    random_state=RANDOM_STATE\n",
    ")\n",
    "model.fit(X_train, y_train)\n",
    "training_time = time.time() - start_time\n",
    "\n",
    "# Test model in X_test and store results\n",
    "y_pred = model.predict(X_test)\n",
    "model_results = model_results.append({\n",
    "    \"model\": \"LGBMRegressor\",\n",
    "    \"training time, s\": training_time,\n",
    "    \"r2\": r2_score(y_test, y_pred),\n",
    "    \"mae\": mean_absolute_error(y_test, y_pred)\n",
    "}, ignore_index = True)\n",
    "clear_output()"
   ]
  },
  {
   "cell_type": "markdown",
   "id": "e55d397f-c705-4abc-be5d-0adee2ca40c5",
   "metadata": {},
   "source": [
    "### ✈️ Step 6.9 | CatBoostRegressor (catboost)"
   ]
  },
  {
   "cell_type": "code",
   "execution_count": 57,
   "id": "96822f60-f4d2-4cc0-baeb-c8d0ae24cf30",
   "metadata": {},
   "outputs": [
    {
     "name": "stdout",
     "output_type": "stream",
     "text": [
      "Best params for fold #1: {'n_estimators': 10, 'depth': 15}\n",
      "Best params for fold #2: {'n_estimators': 7, 'depth': 15}\n",
      "Best params for fold #3: {'n_estimators': 10, 'depth': 15}\n",
      "Best params for fold #4: {'n_estimators': 10, 'depth': 15}\n",
      "Best params for fold #5: {'n_estimators': 10, 'depth': 15}\n",
      "\n",
      "CPU times: user 1.3 s, sys: 235 ms, total: 1.53 s\n",
      "Wall time: 47.1 s\n"
     ]
    },
    {
     "data": {
      "text/html": [
       "<div>\n",
       "<style scoped>\n",
       "    .dataframe tbody tr th:only-of-type {\n",
       "        vertical-align: middle;\n",
       "    }\n",
       "\n",
       "    .dataframe tbody tr th {\n",
       "        vertical-align: top;\n",
       "    }\n",
       "\n",
       "    .dataframe thead th {\n",
       "        text-align: right;\n",
       "    }\n",
       "</style>\n",
       "<table border=\"1\" class=\"dataframe\">\n",
       "  <thead>\n",
       "    <tr style=\"text-align: right;\">\n",
       "      <th></th>\n",
       "      <th>fit time, s</th>\n",
       "      <th>score time, s</th>\n",
       "      <th>r2</th>\n",
       "      <th>mae</th>\n",
       "    </tr>\n",
       "    <tr>\n",
       "      <th>fold</th>\n",
       "      <th></th>\n",
       "      <th></th>\n",
       "      <th></th>\n",
       "      <th></th>\n",
       "    </tr>\n",
       "  </thead>\n",
       "  <tbody>\n",
       "    <tr>\n",
       "      <th>0</th>\n",
       "      <td>38.869985</td>\n",
       "      <td>0.016752</td>\n",
       "      <td>0.971574</td>\n",
       "      <td>2165.465221</td>\n",
       "    </tr>\n",
       "    <tr>\n",
       "      <th>1</th>\n",
       "      <td>32.406690</td>\n",
       "      <td>0.011389</td>\n",
       "      <td>0.967185</td>\n",
       "      <td>2371.970550</td>\n",
       "    </tr>\n",
       "    <tr>\n",
       "      <th>2</th>\n",
       "      <td>40.196264</td>\n",
       "      <td>0.064460</td>\n",
       "      <td>0.970789</td>\n",
       "      <td>2201.416012</td>\n",
       "    </tr>\n",
       "    <tr>\n",
       "      <th>3</th>\n",
       "      <td>39.611168</td>\n",
       "      <td>0.029180</td>\n",
       "      <td>0.971361</td>\n",
       "      <td>2170.058439</td>\n",
       "    </tr>\n",
       "    <tr>\n",
       "      <th>4</th>\n",
       "      <td>12.854692</td>\n",
       "      <td>0.004394</td>\n",
       "      <td>0.972037</td>\n",
       "      <td>2158.881316</td>\n",
       "    </tr>\n",
       "  </tbody>\n",
       "</table>\n",
       "</div>"
      ],
      "text/plain": [
       "      fit time, s  score time, s        r2          mae\n",
       "fold                                                   \n",
       "0       38.869985       0.016752  0.971574  2165.465221\n",
       "1       32.406690       0.011389  0.967185  2371.970550\n",
       "2       40.196264       0.064460  0.970789  2201.416012\n",
       "3       39.611168       0.029180  0.971361  2170.058439\n",
       "4       12.854692       0.004394  0.972037  2158.881316"
      ]
     },
     "execution_count": 57,
     "metadata": {},
     "output_type": "execute_result"
    }
   ],
   "source": [
    "%%time\n",
    "optuna_train(\n",
    "    estimator=CatBoostRegressor(random_state=RANDOM_STATE),\n",
    "    params={\n",
    "        \"n_estimators\": optuna.distributions.CategoricalDistribution([3, 5, 7, 10, 15]),\n",
    "        \"depth\": optuna.distributions.CategoricalDistribution([5, 10, 15]),\n",
    "    }\n",
    ")"
   ]
  },
  {
   "cell_type": "code",
   "execution_count": 58,
   "id": "67c296c1-3bb9-4b30-ac7e-80ad9f8bdbff",
   "metadata": {},
   "outputs": [
    {
     "name": "stdout",
     "output_type": "stream",
     "text": [
      "Learning rate set to 0.5\n",
      "0:\tlearn: 12530.1766157\ttotal: 58.9ms\tremaining: 530ms\n",
      "1:\tlearn: 7596.1806981\ttotal: 219ms\tremaining: 877ms\n",
      "2:\tlearn: 5452.1081683\ttotal: 355ms\tremaining: 828ms\n",
      "3:\tlearn: 4622.7237620\ttotal: 488ms\tremaining: 732ms\n",
      "4:\tlearn: 4288.7938719\ttotal: 604ms\tremaining: 604ms\n",
      "5:\tlearn: 4135.0494354\ttotal: 724ms\tremaining: 482ms\n",
      "6:\tlearn: 3984.6813515\ttotal: 840ms\tremaining: 360ms\n",
      "7:\tlearn: 3848.4197894\ttotal: 962ms\tremaining: 241ms\n",
      "8:\tlearn: 3793.2327587\ttotal: 1.09s\tremaining: 122ms\n",
      "9:\tlearn: 3693.7919377\ttotal: 1.22s\tremaining: 0us\n"
     ]
    }
   ],
   "source": [
    "# Train model on X_train with the best parameters\n",
    "start_time = time.time()\n",
    "model = CatBoostRegressor(\n",
    "    n_estimators=10,\n",
    "    depth=15,\n",
    "    random_state=RANDOM_STATE\n",
    ")\n",
    "model.fit(X_train, y_train)\n",
    "training_time = time.time() - start_time\n",
    "\n",
    "# Test model in X_test and store results\n",
    "y_pred = model.predict(X_test)\n",
    "model_results = model_results.append({\n",
    "    \"model\": \"CatBoostRegressor\",\n",
    "    \"training time, s\": training_time,\n",
    "    \"r2\": r2_score(y_test, y_pred),\n",
    "    \"mae\": mean_absolute_error(y_test, y_pred)\n",
    "}, ignore_index = True)"
   ]
  },
  {
   "cell_type": "markdown",
   "id": "ef3703e2-2bcb-4bb5-b81c-237944659e88",
   "metadata": {},
   "source": [
    "### ✈️ Step 6.10 | XGBRegressor (xgboost)"
   ]
  },
  {
   "cell_type": "code",
   "execution_count": 59,
   "id": "81747197-22ef-484a-adcf-daa9f605dec0",
   "metadata": {},
   "outputs": [
    {
     "name": "stdout",
     "output_type": "stream",
     "text": [
      "Best params for fold #1: {'n_estimators': 10, 'max_depth': 15}\n",
      "Best params for fold #2: {'n_estimators': 10, 'max_depth': 15}\n",
      "Best params for fold #3: {'n_estimators': 10, 'max_depth': 15}\n",
      "Best params for fold #4: {'n_estimators': 10, 'max_depth': 15}\n",
      "Best params for fold #5: {'n_estimators': 10, 'max_depth': 15}\n",
      "\n",
      "CPU times: user 1.23 s, sys: 265 ms, total: 1.49 s\n",
      "Wall time: 32.6 s\n"
     ]
    },
    {
     "data": {
      "text/html": [
       "<div>\n",
       "<style scoped>\n",
       "    .dataframe tbody tr th:only-of-type {\n",
       "        vertical-align: middle;\n",
       "    }\n",
       "\n",
       "    .dataframe tbody tr th {\n",
       "        vertical-align: top;\n",
       "    }\n",
       "\n",
       "    .dataframe thead th {\n",
       "        text-align: right;\n",
       "    }\n",
       "</style>\n",
       "<table border=\"1\" class=\"dataframe\">\n",
       "  <thead>\n",
       "    <tr style=\"text-align: right;\">\n",
       "      <th></th>\n",
       "      <th>fit time, s</th>\n",
       "      <th>score time, s</th>\n",
       "      <th>r2</th>\n",
       "      <th>mae</th>\n",
       "    </tr>\n",
       "    <tr>\n",
       "      <th>fold</th>\n",
       "      <th></th>\n",
       "      <th></th>\n",
       "      <th></th>\n",
       "      <th></th>\n",
       "    </tr>\n",
       "  </thead>\n",
       "  <tbody>\n",
       "    <tr>\n",
       "      <th>0</th>\n",
       "      <td>25.355837</td>\n",
       "      <td>0.097289</td>\n",
       "      <td>0.981586</td>\n",
       "      <td>1663.480552</td>\n",
       "    </tr>\n",
       "    <tr>\n",
       "      <th>1</th>\n",
       "      <td>23.289982</td>\n",
       "      <td>0.046144</td>\n",
       "      <td>0.981325</td>\n",
       "      <td>1676.413670</td>\n",
       "    </tr>\n",
       "    <tr>\n",
       "      <th>2</th>\n",
       "      <td>23.118047</td>\n",
       "      <td>0.042236</td>\n",
       "      <td>0.981865</td>\n",
       "      <td>1661.576575</td>\n",
       "    </tr>\n",
       "    <tr>\n",
       "      <th>3</th>\n",
       "      <td>21.686968</td>\n",
       "      <td>0.047541</td>\n",
       "      <td>0.981794</td>\n",
       "      <td>1656.076586</td>\n",
       "    </tr>\n",
       "    <tr>\n",
       "      <th>4</th>\n",
       "      <td>8.273033</td>\n",
       "      <td>0.023586</td>\n",
       "      <td>0.982130</td>\n",
       "      <td>1655.035250</td>\n",
       "    </tr>\n",
       "  </tbody>\n",
       "</table>\n",
       "</div>"
      ],
      "text/plain": [
       "      fit time, s  score time, s        r2          mae\n",
       "fold                                                   \n",
       "0       25.355837       0.097289  0.981586  1663.480552\n",
       "1       23.289982       0.046144  0.981325  1676.413670\n",
       "2       23.118047       0.042236  0.981865  1661.576575\n",
       "3       21.686968       0.047541  0.981794  1656.076586\n",
       "4        8.273033       0.023586  0.982130  1655.035250"
      ]
     },
     "execution_count": 59,
     "metadata": {},
     "output_type": "execute_result"
    }
   ],
   "source": [
    "%%time\n",
    "optuna_train(\n",
    "    estimator=XGBRegressor(random_state=RANDOM_STATE),\n",
    "    params={\n",
    "        \"n_estimators\": optuna.distributions.CategoricalDistribution([3, 5, 7, 10, 15]),\n",
    "        \"max_depth\": optuna.distributions.CategoricalDistribution([5, 10, 15]),\n",
    "    }\n",
    ")"
   ]
  },
  {
   "cell_type": "code",
   "execution_count": 60,
   "id": "40a3fc65-0814-4a4f-8c35-f103308e4188",
   "metadata": {},
   "outputs": [],
   "source": [
    "# Train model on X_train with the best parameters\n",
    "start_time = time.time()\n",
    "model = XGBRegressor(\n",
    "    n_estimators=10,\n",
    "    max_depth=15,\n",
    "    random_state=RANDOM_STATE\n",
    ")\n",
    "model.fit(X_train, y_train)\n",
    "training_time = time.time() - start_time\n",
    "\n",
    "# Test model in X_test and store results\n",
    "y_pred = model.predict(X_test)\n",
    "model_results = model_results.append({\n",
    "    \"model\": \"XGBRegressor\",\n",
    "    \"training time, s\": training_time,\n",
    "    \"r2\": r2_score(y_test, y_pred),\n",
    "    \"mae\": mean_absolute_error(y_test, y_pred)\n",
    "}, ignore_index = True)"
   ]
  },
  {
   "cell_type": "markdown",
   "id": "6d5fd19e-5d93-426d-b60c-01ba78984c8d",
   "metadata": {},
   "source": [
    "## Step 7 | Results"
   ]
  },
  {
   "cell_type": "markdown",
   "id": "fa261531-eb0b-4751-812e-803f0404418b",
   "metadata": {},
   "source": [
    "### ✈️ Step 7.1 | Compare results and draw conclusions"
   ]
  },
  {
   "cell_type": "code",
   "execution_count": 61,
   "id": "66eafc1e-9bea-4980-95c5-e2212fb14802",
   "metadata": {},
   "outputs": [
    {
     "data": {
      "text/html": [
       "<div>\n",
       "<style scoped>\n",
       "    .dataframe tbody tr th:only-of-type {\n",
       "        vertical-align: middle;\n",
       "    }\n",
       "\n",
       "    .dataframe tbody tr th {\n",
       "        vertical-align: top;\n",
       "    }\n",
       "\n",
       "    .dataframe thead th {\n",
       "        text-align: right;\n",
       "    }\n",
       "</style>\n",
       "<table border=\"1\" class=\"dataframe\">\n",
       "  <thead>\n",
       "    <tr style=\"text-align: right;\">\n",
       "      <th></th>\n",
       "      <th>model</th>\n",
       "      <th>training time, s</th>\n",
       "      <th>r2</th>\n",
       "      <th>mae</th>\n",
       "    </tr>\n",
       "  </thead>\n",
       "  <tbody>\n",
       "    <tr>\n",
       "      <th>0</th>\n",
       "      <td>MyRandomForestRegressor</td>\n",
       "      <td>1.973871</td>\n",
       "      <td>0.971655</td>\n",
       "      <td>1840.258940</td>\n",
       "    </tr>\n",
       "    <tr>\n",
       "      <th>1</th>\n",
       "      <td>MyAdaBoost</td>\n",
       "      <td>4.513666</td>\n",
       "      <td>0.976803</td>\n",
       "      <td>1736.393518</td>\n",
       "    </tr>\n",
       "    <tr>\n",
       "      <th>2</th>\n",
       "      <td>BaggingRegressor</td>\n",
       "      <td>0.463723</td>\n",
       "      <td>0.873812</td>\n",
       "      <td>5840.502212</td>\n",
       "    </tr>\n",
       "    <tr>\n",
       "      <th>3</th>\n",
       "      <td>RandomForestRegressor</td>\n",
       "      <td>1.319498</td>\n",
       "      <td>0.978024</td>\n",
       "      <td>1679.605273</td>\n",
       "    </tr>\n",
       "    <tr>\n",
       "      <th>4</th>\n",
       "      <td>AdaBoostRegressor</td>\n",
       "      <td>1.154104</td>\n",
       "      <td>0.935746</td>\n",
       "      <td>3509.534527</td>\n",
       "    </tr>\n",
       "    <tr>\n",
       "      <th>5</th>\n",
       "      <td>GradientBoostingRegressor</td>\n",
       "      <td>0.481531</td>\n",
       "      <td>0.749644</td>\n",
       "      <td>9056.560708</td>\n",
       "    </tr>\n",
       "    <tr>\n",
       "      <th>6</th>\n",
       "      <td>HistGradientBoostingRegressor</td>\n",
       "      <td>0.207547</td>\n",
       "      <td>0.819884</td>\n",
       "      <td>7597.044768</td>\n",
       "    </tr>\n",
       "    <tr>\n",
       "      <th>7</th>\n",
       "      <td>LGBMRegressor</td>\n",
       "      <td>0.698168</td>\n",
       "      <td>0.943923</td>\n",
       "      <td>3713.905647</td>\n",
       "    </tr>\n",
       "    <tr>\n",
       "      <th>8</th>\n",
       "      <td>CatBoostRegressor</td>\n",
       "      <td>1.311264</td>\n",
       "      <td>0.971405</td>\n",
       "      <td>2139.233830</td>\n",
       "    </tr>\n",
       "    <tr>\n",
       "      <th>9</th>\n",
       "      <td>XGBRegressor</td>\n",
       "      <td>0.643344</td>\n",
       "      <td>0.981908</td>\n",
       "      <td>1638.517265</td>\n",
       "    </tr>\n",
       "  </tbody>\n",
       "</table>\n",
       "</div>"
      ],
      "text/plain": [
       "                           model  training time, s        r2          mae\n",
       "0        MyRandomForestRegressor          1.973871  0.971655  1840.258940\n",
       "1                     MyAdaBoost          4.513666  0.976803  1736.393518\n",
       "2               BaggingRegressor          0.463723  0.873812  5840.502212\n",
       "3          RandomForestRegressor          1.319498  0.978024  1679.605273\n",
       "4              AdaBoostRegressor          1.154104  0.935746  3509.534527\n",
       "5      GradientBoostingRegressor          0.481531  0.749644  9056.560708\n",
       "6  HistGradientBoostingRegressor          0.207547  0.819884  7597.044768\n",
       "7                  LGBMRegressor          0.698168  0.943923  3713.905647\n",
       "8              CatBoostRegressor          1.311264  0.971405  2139.233830\n",
       "9                   XGBRegressor          0.643344  0.981908  1638.517265"
      ]
     },
     "execution_count": 61,
     "metadata": {},
     "output_type": "execute_result"
    }
   ],
   "source": [
    "model_results"
   ]
  },
  {
   "cell_type": "markdown",
   "id": "c736f162-1851-432b-b796-5d93233e08e7",
   "metadata": {},
   "source": [
    "Conclusions:\n",
    "* XGBRegressor has the best scores\n",
    "* GradientBoostingRegressor has the worst scores\n",
    "* MyAdaBoost requires the most time for training\n",
    "* HistGradientBoostingRegressor requires the least amount of time for training"
   ]
  },
  {
   "cell_type": "markdown",
   "id": "32ca8ec0-5d87-4961-b0ab-26d339dd3e85",
   "metadata": {},
   "source": [
    "If you have any questions do not hesitate to contact me: danilapechenev@gmail.com"
   ]
  },
  {
   "cell_type": "markdown",
   "id": "cde6c9f3-1fb3-4660-87d0-4b98f9e27736",
   "metadata": {},
   "source": [
    "**Danila Pechenev, 21.Б15-мм group, St. Petersburg State University**"
   ]
  }
 ],
 "metadata": {
  "colab": {
   "collapsed_sections": [
    "f401882d",
    "d405308b",
    "5ddab8fb",
    "79ff863f",
    "64607fbe",
    "46e29005",
    "77c9cad8",
    "b75c524b",
    "a8af2dec",
    "f827ff86",
    "27336950",
    "e24cebbf",
    "3fd6f597"
   ],
   "provenance": []
  },
  "kaggle": {
   "accelerator": "none",
   "dataSources": [
    {
     "datasetId": 1957837,
     "sourceId": 3228623,
     "sourceType": "datasetVersion"
    }
   ],
   "dockerImageVersionId": 30626,
   "isGpuEnabled": false,
   "isInternetEnabled": true,
   "language": "python",
   "sourceType": "notebook"
  },
  "kernelspec": {
   "display_name": "Python 3 (ipykernel)",
   "language": "python",
   "name": "python3"
  },
  "language_info": {
   "codemirror_mode": {
    "name": "ipython",
    "version": 3
   },
   "file_extension": ".py",
   "mimetype": "text/x-python",
   "name": "python",
   "nbconvert_exporter": "python",
   "pygments_lexer": "ipython3",
   "version": "3.10.12"
  },
  "papermill": {
   "default_parameters": {},
   "duration": 257.43404,
   "end_time": "2024-01-03T10:36:05.589559",
   "environment_variables": {},
   "exception": null,
   "input_path": "__notebook__.ipynb",
   "output_path": "__notebook__.ipynb",
   "parameters": {},
   "start_time": "2024-01-03T10:31:48.155519",
   "version": "2.4.0"
  }
 },
 "nbformat": 4,
 "nbformat_minor": 5
}
